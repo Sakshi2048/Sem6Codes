{
 "cells": [
  {
   "cell_type": "code",
   "execution_count": 199,
   "id": "eba47d4d-98e7-4101-80ba-596663f2447d",
   "metadata": {},
   "outputs": [],
   "source": [
    "import numpy as np\n",
    "import pandas as pd"
   ]
  },
  {
   "cell_type": "code",
   "execution_count": 200,
   "id": "bbd0c837-7736-4829-8bed-a57fd13e953b",
   "metadata": {},
   "outputs": [
    {
     "data": {
      "text/html": [
       "<div>\n",
       "<style scoped>\n",
       "    .dataframe tbody tr th:only-of-type {\n",
       "        vertical-align: middle;\n",
       "    }\n",
       "\n",
       "    .dataframe tbody tr th {\n",
       "        vertical-align: top;\n",
       "    }\n",
       "\n",
       "    .dataframe thead th {\n",
       "        text-align: right;\n",
       "    }\n",
       "</style>\n",
       "<table border=\"1\" class=\"dataframe\">\n",
       "  <thead>\n",
       "    <tr style=\"text-align: right;\">\n",
       "      <th></th>\n",
       "      <th>PassengerId</th>\n",
       "      <th>Survived</th>\n",
       "      <th>Pclass</th>\n",
       "      <th>Name</th>\n",
       "      <th>Sex</th>\n",
       "      <th>Age</th>\n",
       "      <th>SibSp</th>\n",
       "      <th>Parch</th>\n",
       "      <th>Ticket</th>\n",
       "      <th>Fare</th>\n",
       "      <th>Cabin</th>\n",
       "      <th>Embarked</th>\n",
       "    </tr>\n",
       "  </thead>\n",
       "  <tbody>\n",
       "    <tr>\n",
       "      <th>0</th>\n",
       "      <td>1</td>\n",
       "      <td>0</td>\n",
       "      <td>3</td>\n",
       "      <td>Braund, Mr. Owen Harris</td>\n",
       "      <td>male</td>\n",
       "      <td>22.0</td>\n",
       "      <td>1</td>\n",
       "      <td>0</td>\n",
       "      <td>A/5 21171</td>\n",
       "      <td>7.2500</td>\n",
       "      <td>NaN</td>\n",
       "      <td>S</td>\n",
       "    </tr>\n",
       "    <tr>\n",
       "      <th>1</th>\n",
       "      <td>2</td>\n",
       "      <td>1</td>\n",
       "      <td>1</td>\n",
       "      <td>Cumings, Mrs. John Bradley (Florence Briggs Th...</td>\n",
       "      <td>female</td>\n",
       "      <td>38.0</td>\n",
       "      <td>1</td>\n",
       "      <td>0</td>\n",
       "      <td>PC 17599</td>\n",
       "      <td>71.2833</td>\n",
       "      <td>C85</td>\n",
       "      <td>C</td>\n",
       "    </tr>\n",
       "    <tr>\n",
       "      <th>2</th>\n",
       "      <td>3</td>\n",
       "      <td>1</td>\n",
       "      <td>3</td>\n",
       "      <td>Heikkinen, Miss. Laina</td>\n",
       "      <td>female</td>\n",
       "      <td>26.0</td>\n",
       "      <td>0</td>\n",
       "      <td>0</td>\n",
       "      <td>STON/O2. 3101282</td>\n",
       "      <td>7.9250</td>\n",
       "      <td>NaN</td>\n",
       "      <td>S</td>\n",
       "    </tr>\n",
       "    <tr>\n",
       "      <th>3</th>\n",
       "      <td>4</td>\n",
       "      <td>1</td>\n",
       "      <td>1</td>\n",
       "      <td>Futrelle, Mrs. Jacques Heath (Lily May Peel)</td>\n",
       "      <td>female</td>\n",
       "      <td>35.0</td>\n",
       "      <td>1</td>\n",
       "      <td>0</td>\n",
       "      <td>113803</td>\n",
       "      <td>53.1000</td>\n",
       "      <td>C123</td>\n",
       "      <td>S</td>\n",
       "    </tr>\n",
       "    <tr>\n",
       "      <th>4</th>\n",
       "      <td>5</td>\n",
       "      <td>0</td>\n",
       "      <td>3</td>\n",
       "      <td>Allen, Mr. William Henry</td>\n",
       "      <td>male</td>\n",
       "      <td>35.0</td>\n",
       "      <td>0</td>\n",
       "      <td>0</td>\n",
       "      <td>373450</td>\n",
       "      <td>8.0500</td>\n",
       "      <td>NaN</td>\n",
       "      <td>S</td>\n",
       "    </tr>\n",
       "  </tbody>\n",
       "</table>\n",
       "</div>"
      ],
      "text/plain": [
       "   PassengerId  Survived  Pclass  \\\n",
       "0            1         0       3   \n",
       "1            2         1       1   \n",
       "2            3         1       3   \n",
       "3            4         1       1   \n",
       "4            5         0       3   \n",
       "\n",
       "                                                Name     Sex   Age  SibSp  \\\n",
       "0                            Braund, Mr. Owen Harris    male  22.0      1   \n",
       "1  Cumings, Mrs. John Bradley (Florence Briggs Th...  female  38.0      1   \n",
       "2                             Heikkinen, Miss. Laina  female  26.0      0   \n",
       "3       Futrelle, Mrs. Jacques Heath (Lily May Peel)  female  35.0      1   \n",
       "4                           Allen, Mr. William Henry    male  35.0      0   \n",
       "\n",
       "   Parch            Ticket     Fare Cabin Embarked  \n",
       "0      0         A/5 21171   7.2500   NaN        S  \n",
       "1      0          PC 17599  71.2833   C85        C  \n",
       "2      0  STON/O2. 3101282   7.9250   NaN        S  \n",
       "3      0            113803  53.1000  C123        S  \n",
       "4      0            373450   8.0500   NaN        S  "
      ]
     },
     "execution_count": 200,
     "metadata": {},
     "output_type": "execute_result"
    }
   ],
   "source": [
    "data = pd.read_csv('../Datasets/Titanic.csv')\n",
    "data.head()"
   ]
  },
  {
   "cell_type": "code",
   "execution_count": 201,
   "id": "36d3ac4d-d20e-4f1f-b220-818ea233be6d",
   "metadata": {},
   "outputs": [
    {
     "data": {
      "text/plain": [
       "(891, 12)"
      ]
     },
     "execution_count": 201,
     "metadata": {},
     "output_type": "execute_result"
    }
   ],
   "source": [
    "data.shape"
   ]
  },
  {
   "cell_type": "code",
   "execution_count": 202,
   "id": "d4df083d-bb59-4a56-b80a-3f07d8295c87",
   "metadata": {},
   "outputs": [
    {
     "data": {
      "text/plain": [
       "Index(['PassengerId', 'Survived', 'Pclass', 'Name', 'Sex', 'Age', 'SibSp',\n",
       "       'Parch', 'Ticket', 'Fare', 'Cabin', 'Embarked'],\n",
       "      dtype='object')"
      ]
     },
     "execution_count": 202,
     "metadata": {},
     "output_type": "execute_result"
    }
   ],
   "source": [
    "data.columns"
   ]
  },
  {
   "cell_type": "code",
   "execution_count": 203,
   "id": "69246fb1-2975-47f6-8a23-c3d92b2a66a0",
   "metadata": {},
   "outputs": [
    {
     "data": {
      "text/plain": [
       "PassengerId      int64\n",
       "Survived         int64\n",
       "Pclass           int64\n",
       "Name            object\n",
       "Sex             object\n",
       "Age            float64\n",
       "SibSp            int64\n",
       "Parch            int64\n",
       "Ticket          object\n",
       "Fare           float64\n",
       "Cabin           object\n",
       "Embarked        object\n",
       "dtype: object"
      ]
     },
     "execution_count": 203,
     "metadata": {},
     "output_type": "execute_result"
    }
   ],
   "source": [
    "data.dtypes"
   ]
  },
  {
   "cell_type": "code",
   "execution_count": 204,
   "id": "ba9b0130-45fa-4efe-aa5d-4bf7c117d87d",
   "metadata": {},
   "outputs": [
    {
     "name": "stdout",
     "output_type": "stream",
     "text": [
      "<class 'pandas.core.frame.DataFrame'>\n",
      "RangeIndex: 891 entries, 0 to 890\n",
      "Data columns (total 12 columns):\n",
      " #   Column       Non-Null Count  Dtype  \n",
      "---  ------       --------------  -----  \n",
      " 0   PassengerId  891 non-null    int64  \n",
      " 1   Survived     891 non-null    int64  \n",
      " 2   Pclass       891 non-null    int64  \n",
      " 3   Name         891 non-null    object \n",
      " 4   Sex          891 non-null    object \n",
      " 5   Age          714 non-null    float64\n",
      " 6   SibSp        891 non-null    int64  \n",
      " 7   Parch        891 non-null    int64  \n",
      " 8   Ticket       891 non-null    object \n",
      " 9   Fare         891 non-null    float64\n",
      " 10  Cabin        204 non-null    object \n",
      " 11  Embarked     889 non-null    object \n",
      "dtypes: float64(2), int64(5), object(5)\n",
      "memory usage: 83.7+ KB\n"
     ]
    }
   ],
   "source": [
    "data.info()"
   ]
  },
  {
   "cell_type": "code",
   "execution_count": 205,
   "id": "d6b7e527-34c4-44c4-aa1d-0fd02e0bb751",
   "metadata": {},
   "outputs": [
    {
     "data": {
      "text/html": [
       "<div>\n",
       "<style scoped>\n",
       "    .dataframe tbody tr th:only-of-type {\n",
       "        vertical-align: middle;\n",
       "    }\n",
       "\n",
       "    .dataframe tbody tr th {\n",
       "        vertical-align: top;\n",
       "    }\n",
       "\n",
       "    .dataframe thead th {\n",
       "        text-align: right;\n",
       "    }\n",
       "</style>\n",
       "<table border=\"1\" class=\"dataframe\">\n",
       "  <thead>\n",
       "    <tr style=\"text-align: right;\">\n",
       "      <th></th>\n",
       "      <th>PassengerId</th>\n",
       "      <th>Survived</th>\n",
       "      <th>Pclass</th>\n",
       "      <th>Age</th>\n",
       "      <th>SibSp</th>\n",
       "      <th>Parch</th>\n",
       "      <th>Fare</th>\n",
       "    </tr>\n",
       "  </thead>\n",
       "  <tbody>\n",
       "    <tr>\n",
       "      <th>count</th>\n",
       "      <td>891.000000</td>\n",
       "      <td>891.000000</td>\n",
       "      <td>891.000000</td>\n",
       "      <td>714.000000</td>\n",
       "      <td>891.000000</td>\n",
       "      <td>891.000000</td>\n",
       "      <td>891.000000</td>\n",
       "    </tr>\n",
       "    <tr>\n",
       "      <th>mean</th>\n",
       "      <td>446.000000</td>\n",
       "      <td>0.383838</td>\n",
       "      <td>2.308642</td>\n",
       "      <td>29.699118</td>\n",
       "      <td>0.523008</td>\n",
       "      <td>0.381594</td>\n",
       "      <td>32.204208</td>\n",
       "    </tr>\n",
       "    <tr>\n",
       "      <th>std</th>\n",
       "      <td>257.353842</td>\n",
       "      <td>0.486592</td>\n",
       "      <td>0.836071</td>\n",
       "      <td>14.526497</td>\n",
       "      <td>1.102743</td>\n",
       "      <td>0.806057</td>\n",
       "      <td>49.693429</td>\n",
       "    </tr>\n",
       "    <tr>\n",
       "      <th>min</th>\n",
       "      <td>1.000000</td>\n",
       "      <td>0.000000</td>\n",
       "      <td>1.000000</td>\n",
       "      <td>0.420000</td>\n",
       "      <td>0.000000</td>\n",
       "      <td>0.000000</td>\n",
       "      <td>0.000000</td>\n",
       "    </tr>\n",
       "    <tr>\n",
       "      <th>25%</th>\n",
       "      <td>223.500000</td>\n",
       "      <td>0.000000</td>\n",
       "      <td>2.000000</td>\n",
       "      <td>20.125000</td>\n",
       "      <td>0.000000</td>\n",
       "      <td>0.000000</td>\n",
       "      <td>7.910400</td>\n",
       "    </tr>\n",
       "    <tr>\n",
       "      <th>50%</th>\n",
       "      <td>446.000000</td>\n",
       "      <td>0.000000</td>\n",
       "      <td>3.000000</td>\n",
       "      <td>28.000000</td>\n",
       "      <td>0.000000</td>\n",
       "      <td>0.000000</td>\n",
       "      <td>14.454200</td>\n",
       "    </tr>\n",
       "    <tr>\n",
       "      <th>75%</th>\n",
       "      <td>668.500000</td>\n",
       "      <td>1.000000</td>\n",
       "      <td>3.000000</td>\n",
       "      <td>38.000000</td>\n",
       "      <td>1.000000</td>\n",
       "      <td>0.000000</td>\n",
       "      <td>31.000000</td>\n",
       "    </tr>\n",
       "    <tr>\n",
       "      <th>max</th>\n",
       "      <td>891.000000</td>\n",
       "      <td>1.000000</td>\n",
       "      <td>3.000000</td>\n",
       "      <td>80.000000</td>\n",
       "      <td>8.000000</td>\n",
       "      <td>6.000000</td>\n",
       "      <td>512.329200</td>\n",
       "    </tr>\n",
       "  </tbody>\n",
       "</table>\n",
       "</div>"
      ],
      "text/plain": [
       "       PassengerId    Survived      Pclass         Age       SibSp  \\\n",
       "count   891.000000  891.000000  891.000000  714.000000  891.000000   \n",
       "mean    446.000000    0.383838    2.308642   29.699118    0.523008   \n",
       "std     257.353842    0.486592    0.836071   14.526497    1.102743   \n",
       "min       1.000000    0.000000    1.000000    0.420000    0.000000   \n",
       "25%     223.500000    0.000000    2.000000   20.125000    0.000000   \n",
       "50%     446.000000    0.000000    3.000000   28.000000    0.000000   \n",
       "75%     668.500000    1.000000    3.000000   38.000000    1.000000   \n",
       "max     891.000000    1.000000    3.000000   80.000000    8.000000   \n",
       "\n",
       "            Parch        Fare  \n",
       "count  891.000000  891.000000  \n",
       "mean     0.381594   32.204208  \n",
       "std      0.806057   49.693429  \n",
       "min      0.000000    0.000000  \n",
       "25%      0.000000    7.910400  \n",
       "50%      0.000000   14.454200  \n",
       "75%      0.000000   31.000000  \n",
       "max      6.000000  512.329200  "
      ]
     },
     "execution_count": 205,
     "metadata": {},
     "output_type": "execute_result"
    }
   ],
   "source": [
    "data.describe()"
   ]
  },
  {
   "cell_type": "code",
   "execution_count": 206,
   "id": "84c8d726-db3b-4adc-b09e-1bfe997e3a58",
   "metadata": {},
   "outputs": [
    {
     "data": {
      "text/plain": [
       "PassengerId      0\n",
       "Survived         0\n",
       "Pclass           0\n",
       "Name             0\n",
       "Sex              0\n",
       "Age            177\n",
       "SibSp            0\n",
       "Parch            0\n",
       "Ticket           0\n",
       "Fare             0\n",
       "Cabin          687\n",
       "Embarked         2\n",
       "dtype: int64"
      ]
     },
     "execution_count": 206,
     "metadata": {},
     "output_type": "execute_result"
    }
   ],
   "source": [
    "data.isnull().sum()"
   ]
  },
  {
   "cell_type": "code",
   "execution_count": 207,
   "id": "b79dac4d-8ec9-4759-8a63-614089f7315b",
   "metadata": {},
   "outputs": [
    {
     "name": "stdout",
     "output_type": "stream",
     "text": [
      "Mean Age:  29.69911764705882\n",
      "Cabin Mode:  B96 B98\n",
      "Embarked Mode:  S\n"
     ]
    }
   ],
   "source": [
    "# handle missing values\n",
    "\n",
    "# Age\n",
    "mean_age = data['Age'].mean()\n",
    "print(\"Mean Age: \",mean_age)\n",
    "data['Age'] = data['Age'].fillna(mean_age)\n",
    "\n",
    "# Cabin\n",
    "mode_cabin = data['Cabin'].mode()[0]\n",
    "print(\"Cabin Mode: \",mode_cabin)\n",
    "data['Cabin'] = data['Cabin'].fillna(mode_cabin)\n",
    "\n",
    "# Embarked\n",
    "mode_emb = data['Embarked'].mode()[0]\n",
    "print(\"Embarked Mode: \",mode_emb)\n",
    "data['Embarked'] = data['Embarked'].fillna(mode_emb)"
   ]
  },
  {
   "cell_type": "code",
   "execution_count": 208,
   "id": "ec39f1ed-4c85-4399-a208-5a5452ea22e5",
   "metadata": {},
   "outputs": [
    {
     "data": {
      "text/plain": [
       "PassengerId    0\n",
       "Survived       0\n",
       "Pclass         0\n",
       "Name           0\n",
       "Sex            0\n",
       "Age            0\n",
       "SibSp          0\n",
       "Parch          0\n",
       "Ticket         0\n",
       "Fare           0\n",
       "Cabin          0\n",
       "Embarked       0\n",
       "dtype: int64"
      ]
     },
     "execution_count": 208,
     "metadata": {},
     "output_type": "execute_result"
    }
   ],
   "source": [
    "data.isnull().sum()"
   ]
  },
  {
   "cell_type": "code",
   "execution_count": 209,
   "id": "4982b767-bd0a-4489-a44d-39a2cefaa271",
   "metadata": {},
   "outputs": [
    {
     "data": {
      "text/plain": [
       "PassengerId      int64\n",
       "Survived         int64\n",
       "Pclass           int64\n",
       "Name            object\n",
       "Sex             object\n",
       "Age            float64\n",
       "SibSp            int64\n",
       "Parch            int64\n",
       "Ticket          object\n",
       "Fare           float64\n",
       "Cabin           object\n",
       "Embarked        object\n",
       "dtype: object"
      ]
     },
     "execution_count": 209,
     "metadata": {},
     "output_type": "execute_result"
    }
   ],
   "source": [
    "data.dtypes"
   ]
  },
  {
   "cell_type": "code",
   "execution_count": 210,
   "id": "e4099ff7-5913-414d-babd-d3abf39478e0",
   "metadata": {},
   "outputs": [
    {
     "data": {
      "text/plain": [
       "array(['S', 'C', 'Q'], dtype=object)"
      ]
     },
     "execution_count": 210,
     "metadata": {},
     "output_type": "execute_result"
    }
   ],
   "source": [
    "data['Embarked'].unique()"
   ]
  },
  {
   "cell_type": "code",
   "execution_count": 211,
   "id": "d90f9153-938c-473e-9340-2033aff10011",
   "metadata": {},
   "outputs": [],
   "source": [
    "# Type Conversion\n",
    "data['Age'] = data['Age'].astype('int')"
   ]
  },
  {
   "cell_type": "code",
   "execution_count": 212,
   "id": "6b2491fc-d756-4bf2-9cda-5cfec6bae2a5",
   "metadata": {},
   "outputs": [
    {
     "data": {
      "text/plain": [
       "PassengerId      int64\n",
       "Survived         int64\n",
       "Pclass           int64\n",
       "Name            object\n",
       "Sex             object\n",
       "Age              int64\n",
       "SibSp            int64\n",
       "Parch            int64\n",
       "Ticket          object\n",
       "Fare           float64\n",
       "Cabin           object\n",
       "Embarked        object\n",
       "dtype: object"
      ]
     },
     "execution_count": 212,
     "metadata": {},
     "output_type": "execute_result"
    }
   ],
   "source": [
    "data.dtypes"
   ]
  },
  {
   "cell_type": "code",
   "execution_count": 213,
   "id": "29c95167-304b-4eaf-8816-6f8fc529db0e",
   "metadata": {},
   "outputs": [],
   "source": [
    "# Normalization - scaling\n",
    "\n",
    "from sklearn.preprocessing import StandardScaler\n",
    "standard_scaler = StandardScaler()\n",
    "\n",
    "scaled_data = standard_scaler.fit_transform(data['Fare'].values.reshape(-1,1))"
   ]
  },
  {
   "cell_type": "code",
   "execution_count": 214,
   "id": "2994fe26-1586-4957-8e4f-7aa9be64dd2f",
   "metadata": {},
   "outputs": [
    {
     "name": "stdout",
     "output_type": "stream",
     "text": [
      "[[-0.50244517]\n",
      " [ 0.78684529]\n",
      " [-0.48885426]\n",
      " [ 0.42073024]\n",
      " [-0.48633742]]\n"
     ]
    }
   ],
   "source": [
    "print(scaled_data[:5])"
   ]
  },
  {
   "cell_type": "code",
   "execution_count": 215,
   "id": "a6f80ba3-9cbb-4ff0-9a32-78a65b3b3665",
   "metadata": {},
   "outputs": [
    {
     "data": {
      "text/html": [
       "<div>\n",
       "<style scoped>\n",
       "    .dataframe tbody tr th:only-of-type {\n",
       "        vertical-align: middle;\n",
       "    }\n",
       "\n",
       "    .dataframe tbody tr th {\n",
       "        vertical-align: top;\n",
       "    }\n",
       "\n",
       "    .dataframe thead th {\n",
       "        text-align: right;\n",
       "    }\n",
       "</style>\n",
       "<table border=\"1\" class=\"dataframe\">\n",
       "  <thead>\n",
       "    <tr style=\"text-align: right;\">\n",
       "      <th></th>\n",
       "      <th>PassengerId</th>\n",
       "      <th>Survived</th>\n",
       "      <th>Pclass</th>\n",
       "      <th>Name</th>\n",
       "      <th>Sex</th>\n",
       "      <th>Age</th>\n",
       "      <th>SibSp</th>\n",
       "      <th>Parch</th>\n",
       "      <th>Ticket</th>\n",
       "      <th>Fare</th>\n",
       "      <th>Cabin</th>\n",
       "      <th>Embarked</th>\n",
       "    </tr>\n",
       "  </thead>\n",
       "  <tbody>\n",
       "    <tr>\n",
       "      <th>0</th>\n",
       "      <td>1</td>\n",
       "      <td>0</td>\n",
       "      <td>3</td>\n",
       "      <td>Braund, Mr. Owen Harris</td>\n",
       "      <td>male</td>\n",
       "      <td>22</td>\n",
       "      <td>1</td>\n",
       "      <td>0</td>\n",
       "      <td>A/5 21171</td>\n",
       "      <td>7.2500</td>\n",
       "      <td>B96 B98</td>\n",
       "      <td>2</td>\n",
       "    </tr>\n",
       "    <tr>\n",
       "      <th>1</th>\n",
       "      <td>2</td>\n",
       "      <td>1</td>\n",
       "      <td>1</td>\n",
       "      <td>Cumings, Mrs. John Bradley (Florence Briggs Th...</td>\n",
       "      <td>female</td>\n",
       "      <td>38</td>\n",
       "      <td>1</td>\n",
       "      <td>0</td>\n",
       "      <td>PC 17599</td>\n",
       "      <td>71.2833</td>\n",
       "      <td>C85</td>\n",
       "      <td>0</td>\n",
       "    </tr>\n",
       "    <tr>\n",
       "      <th>2</th>\n",
       "      <td>3</td>\n",
       "      <td>1</td>\n",
       "      <td>3</td>\n",
       "      <td>Heikkinen, Miss. Laina</td>\n",
       "      <td>female</td>\n",
       "      <td>26</td>\n",
       "      <td>0</td>\n",
       "      <td>0</td>\n",
       "      <td>STON/O2. 3101282</td>\n",
       "      <td>7.9250</td>\n",
       "      <td>B96 B98</td>\n",
       "      <td>2</td>\n",
       "    </tr>\n",
       "    <tr>\n",
       "      <th>3</th>\n",
       "      <td>4</td>\n",
       "      <td>1</td>\n",
       "      <td>1</td>\n",
       "      <td>Futrelle, Mrs. Jacques Heath (Lily May Peel)</td>\n",
       "      <td>female</td>\n",
       "      <td>35</td>\n",
       "      <td>1</td>\n",
       "      <td>0</td>\n",
       "      <td>113803</td>\n",
       "      <td>53.1000</td>\n",
       "      <td>C123</td>\n",
       "      <td>2</td>\n",
       "    </tr>\n",
       "    <tr>\n",
       "      <th>4</th>\n",
       "      <td>5</td>\n",
       "      <td>0</td>\n",
       "      <td>3</td>\n",
       "      <td>Allen, Mr. William Henry</td>\n",
       "      <td>male</td>\n",
       "      <td>35</td>\n",
       "      <td>0</td>\n",
       "      <td>0</td>\n",
       "      <td>373450</td>\n",
       "      <td>8.0500</td>\n",
       "      <td>B96 B98</td>\n",
       "      <td>2</td>\n",
       "    </tr>\n",
       "  </tbody>\n",
       "</table>\n",
       "</div>"
      ],
      "text/plain": [
       "   PassengerId  Survived  Pclass  \\\n",
       "0            1         0       3   \n",
       "1            2         1       1   \n",
       "2            3         1       3   \n",
       "3            4         1       1   \n",
       "4            5         0       3   \n",
       "\n",
       "                                                Name     Sex  Age  SibSp  \\\n",
       "0                            Braund, Mr. Owen Harris    male   22      1   \n",
       "1  Cumings, Mrs. John Bradley (Florence Briggs Th...  female   38      1   \n",
       "2                             Heikkinen, Miss. Laina  female   26      0   \n",
       "3       Futrelle, Mrs. Jacques Heath (Lily May Peel)  female   35      1   \n",
       "4                           Allen, Mr. William Henry    male   35      0   \n",
       "\n",
       "   Parch            Ticket     Fare    Cabin  Embarked  \n",
       "0      0         A/5 21171   7.2500  B96 B98         2  \n",
       "1      0          PC 17599  71.2833      C85         0  \n",
       "2      0  STON/O2. 3101282   7.9250  B96 B98         2  \n",
       "3      0            113803  53.1000     C123         2  \n",
       "4      0            373450   8.0500  B96 B98         2  "
      ]
     },
     "execution_count": 215,
     "metadata": {},
     "output_type": "execute_result"
    }
   ],
   "source": [
    "# Convert categorical to numerical (Embarked S - 2, C - 0, Q - 1)\n",
    "\n",
    "from sklearn.preprocessing import LabelEncoder\n",
    "le = LabelEncoder()\n",
    "data['Embarked'] = le.fit_transform(data['Embarked'])\n",
    "\n",
    "data.head()"
   ]
  },
  {
   "cell_type": "code",
   "execution_count": 216,
   "id": "f58f84dc-929f-4855-a550-5da7f2b6a0e8",
   "metadata": {},
   "outputs": [],
   "source": [
    "# Outliers Detection using Z-score\n",
    "\n",
    "outliers = []\n",
    "\n",
    "def detect_outliers(data):\n",
    "    threshold = 3\n",
    "    mean = np.mean(data)\n",
    "    std = np.std(data)\n",
    "\n",
    "    for i in data:\n",
    "        z = i-mean/std\n",
    "        a = abs(z)\n",
    "        if a> threshold : \n",
    "            outliers.append(i)\n",
    "    return outliers"
   ]
  },
  {
   "cell_type": "code",
   "execution_count": 217,
   "id": "93a6c5a6-39c0-45ca-a503-87350bd97956",
   "metadata": {},
   "outputs": [
    {
     "name": "stdout",
     "output_type": "stream",
     "text": [
      "[22, 38, 26, 35, 35, 29, 54, 27, 14, 58, 20, 39, 14, 55, 29, 31, 29, 35, 34, 15, 28, 8, 38, 29, 19, 29, 29, 40, 29, 29, 66, 28, 42, 29, 21, 18, 14, 40, 27, 29, 19, 29, 29, 29, 29, 18, 7, 21, 49, 29, 65, 29, 21, 28, 11, 22, 38, 45, 29, 29, 29, 19, 17, 26, 32, 16, 21, 26, 32, 25, 29, 29, 30, 22, 29, 29, 28, 17, 33, 16, 29, 23, 24, 29, 20, 46, 26, 59, 29, 71, 23, 34, 34, 28, 29, 21, 33, 37, 28, 21, 29, 38, 29, 47, 14, 22, 20, 17, 21, 70, 29, 24, 21, 29, 32, 32, 54, 12, 29, 24, 29, 45, 33, 20, 47, 29, 25, 23, 19, 37, 16, 24, 29, 22, 24, 19, 18, 19, 27, 9, 36, 42, 51, 22, 55, 40, 29, 51, 16, 30, 29, 29, 44, 40, 26, 17, 9, 29, 45, 29, 28, 61, 21, 56, 18, 29, 50, 30, 36, 29, 29, 9, 29, 29, 45, 40, 36, 32, 19, 19, 44, 58, 29, 42, 29, 24, 28, 29, 34, 45, 18, 32, 26, 16, 40, 24, 35, 22, 30, 29, 31, 27, 42, 32, 30, 16, 27, 51, 29, 38, 22, 19, 20, 18, 29, 35, 29, 59, 24, 29, 44, 8, 19, 33, 29, 29, 29, 22, 30, 44, 25, 24, 37, 54, 29, 29, 62, 30, 41, 29, 29, 30, 35, 50, 29, 52, 40, 29, 36, 16, 25, 58, 35, 29, 25, 41, 37, 29, 63, 45, 29, 7, 35, 65, 28, 16, 19, 29, 33, 30, 22, 42, 22, 26, 19, 36, 24, 24, 29, 23, 29, 50, 29, 29, 19, 29, 29, 29, 17, 30, 30, 24, 18, 26, 28, 43, 26, 24, 54, 31, 40, 22, 27, 30, 22, 29, 36, 61, 36, 31, 16, 29, 45, 38, 16, 29, 29, 29, 41, 45, 45, 24, 28, 25, 36, 24, 40, 29, 42, 23, 29, 15, 25, 29, 28, 22, 38, 29, 29, 40, 29, 45, 35, 29, 30, 60, 29, 29, 24, 25, 18, 19, 22, 29, 22, 27, 20, 19, 42, 32, 35, 29, 18, 36, 29, 17, 36, 21, 28, 23, 24, 22, 31, 46, 23, 28, 39, 26, 21, 28, 20, 34, 51, 21, 29, 29, 29, 33, 29, 44, 29, 34, 18, 30, 10, 29, 21, 29, 28, 18, 29, 28, 19, 29, 32, 28, 29, 42, 17, 50, 14, 21, 24, 64, 31, 45, 20, 25, 28, 29, 13, 34, 52, 36, 29, 30, 49, 29, 29, 65, 29, 50, 29, 48, 34, 47, 48, 29, 38, 29, 56, 29, 29, 38, 33, 23, 22, 29, 34, 29, 22, 9, 29, 50, 63, 25, 29, 35, 58, 30, 9, 29, 21, 55, 71, 21, 29, 54, 29, 25, 24, 17, 21, 29, 37, 16, 18, 33, 29, 28, 26, 29, 29, 36, 54, 24, 47, 34, 29, 36, 32, 30, 22, 29, 44, 29, 40, 50, 29, 39, 23, 29, 17, 29, 30, 7, 45, 30, 29, 22, 36, 9, 11, 32, 50, 64, 19, 29, 33, 8, 17, 27, 29, 22, 22, 62, 48, 29, 39, 36, 29, 40, 28, 29, 29, 24, 19, 29, 29, 32, 62, 53, 36, 29, 16, 19, 34, 39, 29, 32, 25, 39, 54, 36, 29, 18, 47, 60, 22, 29, 35, 52, 47, 29, 37, 36, 29, 49, 29, 49, 24, 29, 29, 44, 35, 36, 30, 27, 22, 40, 39, 29, 29, 29, 35, 24, 34, 26, 26, 27, 42, 20, 21, 21, 61, 57, 21, 26, 29, 80, 51, 32, 29, 9, 28, 32, 31, 41, 29, 20, 24, 29, 48, 19, 56, 29, 23, 29, 18, 21, 29, 18, 24, 29, 32, 23, 58, 50, 40, 47, 36, 20, 32, 25, 29, 43, 29, 40, 31, 70, 31, 29, 18, 24, 18, 43, 36, 29, 27, 20, 14, 60, 25, 14, 19, 18, 15, 31, 29, 25, 60, 52, 44, 29, 49, 42, 18, 35, 18, 25, 26, 39, 45, 42, 22, 29, 24, 29, 48, 29, 52, 19, 38, 27, 29, 33, 6, 17, 34, 50, 27, 20, 30, 29, 25, 25, 29, 11, 29, 23, 23, 28, 48, 35, 29, 29, 29, 36, 21, 24, 31, 70, 16, 30, 19, 31, 6, 33, 23, 48, 28, 18, 34, 33, 29, 41, 20, 36, 16, 51, 29, 30, 29, 32, 24, 48, 57, 29, 54, 18, 29, 29, 43, 13, 17, 29, 29, 25, 25, 18, 8, 46, 29, 16, 29, 29, 25, 39, 49, 31, 30, 30, 34, 31, 11, 27, 31, 39, 18, 39, 33, 26, 39, 35, 6, 30, 29, 23, 31, 43, 10, 52, 27, 38, 27, 29, 29, 29, 62, 15, 29, 23, 18, 39, 21, 29, 32, 29, 20, 16, 30, 34, 17, 42, 29, 35, 28, 29, 74, 9, 16, 44, 18, 45, 51, 24, 29, 41, 21, 48, 29, 24, 42, 27, 31, 29, 26, 47, 33, 47, 28, 15, 20, 19, 29, 56, 25, 33, 22, 28, 25, 39, 27, 19, 29, 26, 32]\n"
     ]
    }
   ],
   "source": [
    "age_outliers = detect_outliers(data['Age'])\n",
    "print(age_outliers)"
   ]
  },
  {
   "cell_type": "code",
   "execution_count": 218,
   "id": "3ccca93c-b299-4164-b91a-f32488d4b4c0",
   "metadata": {},
   "outputs": [],
   "source": [
    "import matplotlib.pyplot as plt\n",
    "import seaborn as sns "
   ]
  },
  {
   "cell_type": "code",
   "execution_count": 219,
   "id": "100dccb6-8a5d-49d6-95dc-2eb59ebdd3de",
   "metadata": {},
   "outputs": [
    {
     "data": {
      "text/plain": [
       "<Axes: xlabel='Age'>"
      ]
     },
     "execution_count": 219,
     "metadata": {},
     "output_type": "execute_result"
    },
    {
     "data": {
      "image/png": "[encoded data removed]",
      "text/plain": [
       "<Figure size 640x480 with 1 Axes>"
      ]
     },
     "metadata": {},
     "output_type": "display_data"
    }
   ],
   "source": [
    "sns.boxplot(data=data,x=\"Age\")"
   ]
  },
  {
   "cell_type": "code",
   "execution_count": 220,
   "id": "f849ecde-dde3-402b-a8e9-1dfc042e4357",
   "metadata": {},
   "outputs": [],
   "source": [
    "# Outliers Detection using IQR\n",
    "\n",
    "outliers = []\n",
    "\n",
    "def detect_outliers_iqr(data):\n",
    "    threshold = 3\n",
    "    q1 = np.percentile(data,25)\n",
    "    q3 = np.percentile(data,75)\n",
    "    iqr = q3-q1\n",
    "\n",
    "    lower = q1 - 1.5*iqr\n",
    "    upper = q3 + 1.5*iqr\n",
    "    \n",
    "    for i in data:\n",
    "        if i>upper or i<lower:\n",
    "            outliers.append(i)\n",
    "    return outliers"
   ]
  },
  {
   "cell_type": "code",
   "execution_count": 221,
   "id": "4658c15c-febf-438f-a9e6-7a4bea5f58ad",
   "metadata": {},
   "outputs": [
    {
     "name": "stdout",
     "output_type": "stream",
     "text": [
      "[2, 58, 55, 2, 66, 65, 0, 59, 71, 70, 2, 55, 1, 61, 1, 56, 1, 58, 2, 59, 62, 58, 63, 65, 2, 0, 61, 2, 60, 1, 1, 64, 65, 56, 0, 2, 63, 58, 55, 71, 2, 64, 62, 62, 60, 61, 57, 80, 2, 0, 56, 58, 70, 60, 60, 70, 0, 57, 1, 0, 2, 1, 62, 0, 74, 56]\n"
     ]
    }
   ],
   "source": [
    "age_outliers_iqr = detect_outliers_iqr(data['Age'])\n",
    "print(age_outliers_iqr)"
   ]
  },
  {
   "cell_type": "code",
   "execution_count": 222,
   "id": "b9b6a9cd-de88-49fd-aff4-f505e7a6eaa1",
   "metadata": {},
   "outputs": [
    {
     "data": {
      "text/plain": [
       "<Axes: xlabel='Age'>"
      ]
     },
     "execution_count": 222,
     "metadata": {},
     "output_type": "execute_result"
    },
    {
     "data": {
      "image/png": "[encoded data removed]",
      "text/plain": [
       "<Figure size 640x480 with 1 Axes>"
      ]
     },
     "metadata": {},
     "output_type": "display_data"
    }
   ],
   "source": [
    "sns.boxplot(data=data,x='Age')"
   ]
  },
  {
   "cell_type": "code",
   "execution_count": 223,
   "id": "a2a5ad2f-f3c4-4e4e-90e2-076e1d2949b3",
   "metadata": {},
   "outputs": [
    {
     "name": "stdout",
     "output_type": "stream",
     "text": [
      "29.544332210998878\n"
     ]
    },
    {
     "name": "stderr",
     "output_type": "stream",
     "text": [
      "C:\\Users\\saksh\\AppData\\Local\\Temp\\ipykernel_12976\\4086394662.py:4: FutureWarning: A value is trying to be set on a copy of a DataFrame or Series through chained assignment using an inplace method.\n",
      "The behavior will change in pandas 3.0. This inplace method will never work because the intermediate object on which we are setting values always behaves as a copy.\n",
      "\n",
      "For example, when doing 'df[col].method(value, inplace=True)', try using 'df.method({col: value}, inplace=True)' or df[col] = df[col].method(value) instead, to perform the operation inplace on the original object.\n",
      "\n",
      "\n",
      "  data['Age'].replace(to_replace=i, value=mean, inplace=True)\n"
     ]
    }
   ],
   "source": [
    "mean = data['Age'].mean()\n",
    "print(mean)\n",
    "for i in age_outliers_iqr:\n",
    "    data['Age'].replace(to_replace=i, value=mean, inplace=True)"
   ]
  },
  {
   "cell_type": "code",
   "execution_count": 224,
   "id": "09f91937-5d46-4554-88de-12573a18cf48",
   "metadata": {},
   "outputs": [
    {
     "name": "stdout",
     "output_type": "stream",
     "text": [
      "[2, 58, 55, 2, 66, 65, 0, 59, 71, 70, 2, 55, 1, 61, 1, 56, 1, 58, 2, 59, 62, 58, 63, 65, 2, 0, 61, 2, 60, 1, 1, 64, 65, 56, 0, 2, 63, 58, 55, 71, 2, 64, 62, 62, 60, 61, 57, 80, 2, 0, 56, 58, 70, 60, 60, 70, 0, 57, 1, 0, 2, 1, 62, 0, 74, 56, 54.0, 4.0, 8.0, 3.0, 7.0, 49.0, 5.0, 4.0, 54.0, 9.0, 51.0, 51.0, 9.0, 4.0, 50.0, 9.0, 4.0, 3.0, 51.0, 5.0, 8.0, 54.0, 50.0, 3.0, 52.0, 7.0, 50.0, 54.0, 3.0, 3.0, 51.0, 3.0, 50.0, 4.0, 5.0, 52.0, 49.0, 50.0, 48.0, 48.0, 9.0, 50.0, 9.0, 54.0, 54.0, 50.0, 7.0, 9.0, 50.0, 8.0, 48.0, 53.0, 54.0, 52.0, 49.0, 49.0, 4.0, 51.0, 9.0, 48.0, 50.0, 4.0, 52.0, 49.0, 48.0, 52.0, 6.0, 50.0, 48.0, 4.0, 6.0, 48.0, 51.0, 48.0, 54.0, 5.0, 8.0, 49.0, 6.0, 52.0, 4.0, 9.0, 51.0, 48.0, 4.0]\n"
     ]
    }
   ],
   "source": [
    "age_outliers_iqr = detect_outliers_iqr(data['Age'])\n",
    "print(age_outliers_iqr)"
   ]
  },
  {
   "cell_type": "code",
   "execution_count": 230,
   "id": "c11ca3bc-7415-46ac-af36-07e6c6a000fe",
   "metadata": {},
   "outputs": [
    {
     "name": "stdout",
     "output_type": "stream",
     "text": [
      "Median =  29.0\n"
     ]
    },
    {
     "data": {
      "text/plain": [
       "<Axes: xlabel='Age'>"
      ]
     },
     "execution_count": 230,
     "metadata": {},
     "output_type": "execute_result"
    },
    {
     "data": {
      "image/png": "[encoded data removed]",
      "text/plain": [
       "<Figure size 640x480 with 1 Axes>"
      ]
     },
     "metadata": {},
     "output_type": "display_data"
    }
   ],
   "source": [
    "median = data['Age'].median()\n",
    "print(\"Median = \",median)\n",
    "sns.boxplot(data=data,x=\"Age\")"
   ]
  },
  {
   "cell_type": "code",
   "execution_count": 226,
   "id": "d6544f4c-3022-4857-9cd3-dbc0dee22d32",
   "metadata": {},
   "outputs": [
    {
     "name": "stdout",
     "output_type": "stream",
     "text": [
      "0.09197257463662332\n"
     ]
    }
   ],
   "source": [
    "# Skewness\n",
    "from scipy.stats import skew\n",
    "s1 = skew(data['Age'])\n",
    "print(s1)"
   ]
  },
  {
   "cell_type": "code",
   "execution_count": 227,
   "id": "69fbfa8b-dd32-478b-b102-6685315eb35a",
   "metadata": {},
   "outputs": [],
   "source": [
    "# Squaring age to make distribution normal\n",
    "data['sq_age'] = data['Age']**(2)"
   ]
  },
  {
   "cell_type": "code",
   "execution_count": 228,
   "id": "2f4a2c2c-cdf9-4865-9e65-9324b07b9067",
   "metadata": {},
   "outputs": [],
   "source": [
    "s2 = skew(data['sq_age'])"
   ]
  },
  {
   "cell_type": "code",
   "execution_count": 229,
   "id": "a44598a3-328e-4155-bcec-07ce67428487",
   "metadata": {},
   "outputs": [
    {
     "name": "stdout",
     "output_type": "stream",
     "text": [
      "1.2537459107825086\n"
     ]
    }
   ],
   "source": [
    "print(s2)"
   ]
  },
  {
   "cell_type": "code",
   "execution_count": null,
   "id": "0d3e497d-9150-4c71-9e51-4b4afd4633b1",
   "metadata": {},
   "outputs": [],
   "source": []
  }
 ],
 "metadata": {
  "kernelspec": {
   "display_name": "Python 3 (ipykernel)",
   "language": "python",
   "name": "python3"
  },
  "language_info": {
   "codemirror_mode": {
    "name": "ipython",
    "version": 3
   },
   "file_extension": ".py",
   "mimetype": "text/x-python",
   "name": "python",
   "nbconvert_exporter": "python",
   "pygments_lexer": "ipython3",
   "version": "3.12.2"
  }
 },
 "nbformat": 4,
 "nbformat_minor": 5
}
