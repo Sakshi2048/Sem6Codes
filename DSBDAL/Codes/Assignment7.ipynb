{
 "cells": [
  {
   "cell_type": "code",
   "execution_count": 149,
   "id": "e0c5e65f-f15b-4849-a3cc-a6795692d81d",
   "metadata": {},
   "outputs": [],
   "source": [
    "# pip install nltk"
   ]
  },
  {
   "cell_type": "code",
   "execution_count": 150,
   "id": "122813d3-8eae-436b-96df-8170133d8b38",
   "metadata": {},
   "outputs": [],
   "source": [
    "import nltk"
   ]
  },
  {
   "cell_type": "code",
   "execution_count": 151,
   "id": "7bf270db-db22-4a64-990c-147f92e1934b",
   "metadata": {},
   "outputs": [
    {
     "name": "stdout",
     "output_type": "stream",
     "text": [
      "showing info https://raw.githubusercontent.com/nltk/nltk_data/gh-pages/index.xml\n"
     ]
    },
    {
     "data": {
      "text/plain": [
       "True"
      ]
     },
     "execution_count": 151,
     "metadata": {},
     "output_type": "execute_result"
    }
   ],
   "source": [
    "nltk.download()"
   ]
  },
  {
   "cell_type": "code",
   "execution_count": 152,
   "id": "0f667348-2cd9-462d-9ac4-9f4253449985",
   "metadata": {},
   "outputs": [
    {
     "name": "stdout",
     "output_type": "stream",
     "text": [
      "python is a high-level, interpreted programming language created by guido van rossum and first released in 1991. it is designed with an emphasis on code readability, and its syntax allows programmers to express concepts in fewer lines of code than would be possible in languages such as c++ or java.\\n\\npython supports multiple programming paradigms, including procedural, object-oriented, and functional programming. in simpler terms, this means its flexible and allows you to write code in different ways, whether that's like giving the computer a to-do list (procedural), creating digital models of things or concepts (object-oriented), or treating your code like a math problem (functional).\n"
     ]
    }
   ],
   "source": [
    "text = open('../Datasets/SampleText.txt','r')\n",
    "text = text.read()\n",
    "print(text)"
   ]
  },
  {
   "cell_type": "markdown",
   "id": "726c25fb-9b91-43b0-9cca-668bbf887757",
   "metadata": {},
   "source": [
    "#### Tokenization"
   ]
  },
  {
   "cell_type": "code",
   "execution_count": 153,
   "id": "c4225784-cd6d-4d08-a3f0-d178de0dd590",
   "metadata": {},
   "outputs": [
    {
     "name": "stdout",
     "output_type": "stream",
     "text": [
      "['python is a high-level, interpreted programming language created by guido van rossum and first released in 1991. it is designed with an emphasis on code readability, and its syntax allows programmers to express concepts in fewer lines of code than would be possible in languages such as c++ or java.\\\\n\\\\npython supports multiple programming paradigms, including procedural, object-oriented, and functional programming.', \"in simpler terms, this means its flexible and allows you to write code in different ways, whether that's like giving the computer a to-do list (procedural), creating digital models of things or concepts (object-oriented), or treating your code like a math problem (functional).\"]\n"
     ]
    }
   ],
   "source": [
    "# Sentence Tokenization\n",
    "from nltk.tokenize import sent_tokenize\n",
    "tokenized_sent = sent_tokenize(text)\n",
    "print(tokenized_sent)"
   ]
  },
  {
   "cell_type": "code",
   "execution_count": 154,
   "id": "cf029014-1eb9-41fc-95c0-286f0870220b",
   "metadata": {},
   "outputs": [
    {
     "name": "stdout",
     "output_type": "stream",
     "text": [
      "['python', 'is', 'a', 'high-level', ',', 'interpreted', 'programming', 'language', 'created', 'by', 'guido', 'van', 'rossum', 'and', 'first', 'released', 'in', '1991.', 'it', 'is', 'designed', 'with', 'an', 'emphasis', 'on', 'code', 'readability', ',', 'and', 'its', 'syntax', 'allows', 'programmers', 'to', 'express', 'concepts', 'in', 'fewer', 'lines', 'of', 'code', 'than', 'would', 'be', 'possible', 'in', 'languages', 'such', 'as', 'c++', 'or', 'java.\\\\n\\\\npython', 'supports', 'multiple', 'programming', 'paradigms', ',', 'including', 'procedural', ',', 'object-oriented', ',', 'and', 'functional', 'programming', '.', 'in', 'simpler', 'terms', ',', 'this', 'means', 'its', 'flexible', 'and', 'allows', 'you', 'to', 'write', 'code', 'in', 'different', 'ways', ',', 'whether', 'that', \"'s\", 'like', 'giving', 'the', 'computer', 'a', 'to-do', 'list', '(', 'procedural', ')', ',', 'creating', 'digital', 'models', 'of', 'things', 'or', 'concepts', '(', 'object-oriented', ')', ',', 'or', 'treating', 'your', 'code', 'like', 'a', 'math', 'problem', '(', 'functional', ')', '.']\n"
     ]
    }
   ],
   "source": [
    "# Sentence Tokenization\n",
    "from nltk.tokenize import word_tokenize\n",
    "tokenized_words = word_tokenize(text)\n",
    "print(tokenized_words)"
   ]
  },
  {
   "cell_type": "code",
   "execution_count": 155,
   "id": "1d91dd42-84d9-41df-99f7-f0ed3e0831a3",
   "metadata": {},
   "outputs": [
    {
     "name": "stdout",
     "output_type": "stream",
     "text": [
      "<FreqDist with 82 samples and 121 outcomes>\n"
     ]
    }
   ],
   "source": [
    "# Frequency Distribution\n",
    "from nltk.probability import FreqDist\n",
    "fdist = FreqDist(tokenized_words)\n",
    "print(fdist)"
   ]
  },
  {
   "cell_type": "code",
   "execution_count": 156,
   "id": "43e13c6d-c7a5-4136-9b84-bc9784f869df",
   "metadata": {},
   "outputs": [
    {
     "data": {
      "text/plain": [
       "[(',', 9), ('in', 5), ('and', 4), ('code', 4), ('a', 3)]"
      ]
     },
     "execution_count": 156,
     "metadata": {},
     "output_type": "execute_result"
    }
   ],
   "source": [
    "fdist.most_common(5)"
   ]
  },
  {
   "cell_type": "code",
   "execution_count": 157,
   "id": "f1d1ecf3-5272-4799-8cd5-d16e383e2853",
   "metadata": {},
   "outputs": [
    {
     "data": {
      "text/plain": [
       "<Axes: xlabel='Samples', ylabel='Counts'>"
      ]
     },
     "execution_count": 157,
     "metadata": {},
     "output_type": "execute_result"
    },
    {
     "data": {
      "image/png": "[encoded data removed]",
      "text/plain": [
       "<Figure size 640x480 with 1 Axes>"
      ]
     },
     "metadata": {},
     "output_type": "display_data"
    }
   ],
   "source": [
    "# Frequency Distribution Plot\n",
    "import matplotlib.pyplot as plt\n",
    "fdist.plot(10)"
   ]
  },
  {
   "cell_type": "code",
   "execution_count": 164,
   "id": "66ee91e4-7377-4283-9895-af2d8dbcd47e",
   "metadata": {},
   "outputs": [
    {
     "data": {
      "text/plain": [
       "{'a',\n",
       " 'about',\n",
       " 'above',\n",
       " 'after',\n",
       " 'again',\n",
       " 'against',\n",
       " 'ain',\n",
       " 'all',\n",
       " 'am',\n",
       " 'an',\n",
       " 'and',\n",
       " 'any',\n",
       " 'are',\n",
       " 'aren',\n",
       " \"aren't\",\n",
       " 'as',\n",
       " 'at',\n",
       " 'be',\n",
       " 'because',\n",
       " 'been',\n",
       " 'before',\n",
       " 'being',\n",
       " 'below',\n",
       " 'between',\n",
       " 'both',\n",
       " 'but',\n",
       " 'by',\n",
       " 'can',\n",
       " 'couldn',\n",
       " \"couldn't\",\n",
       " 'd',\n",
       " 'did',\n",
       " 'didn',\n",
       " \"didn't\",\n",
       " 'do',\n",
       " 'does',\n",
       " 'doesn',\n",
       " \"doesn't\",\n",
       " 'doing',\n",
       " 'don',\n",
       " \"don't\",\n",
       " 'down',\n",
       " 'during',\n",
       " 'each',\n",
       " 'few',\n",
       " 'for',\n",
       " 'from',\n",
       " 'further',\n",
       " 'had',\n",
       " 'hadn',\n",
       " \"hadn't\",\n",
       " 'has',\n",
       " 'hasn',\n",
       " \"hasn't\",\n",
       " 'have',\n",
       " 'haven',\n",
       " \"haven't\",\n",
       " 'having',\n",
       " 'he',\n",
       " \"he'd\",\n",
       " \"he'll\",\n",
       " \"he's\",\n",
       " 'her',\n",
       " 'here',\n",
       " 'hers',\n",
       " 'herself',\n",
       " 'him',\n",
       " 'himself',\n",
       " 'his',\n",
       " 'how',\n",
       " 'i',\n",
       " \"i'd\",\n",
       " \"i'll\",\n",
       " \"i'm\",\n",
       " \"i've\",\n",
       " 'if',\n",
       " 'in',\n",
       " 'into',\n",
       " 'is',\n",
       " 'isn',\n",
       " \"isn't\",\n",
       " 'it',\n",
       " \"it'd\",\n",
       " \"it'll\",\n",
       " \"it's\",\n",
       " 'its',\n",
       " 'itself',\n",
       " 'just',\n",
       " 'll',\n",
       " 'm',\n",
       " 'ma',\n",
       " 'me',\n",
       " 'mightn',\n",
       " \"mightn't\",\n",
       " 'more',\n",
       " 'most',\n",
       " 'mustn',\n",
       " \"mustn't\",\n",
       " 'my',\n",
       " 'myself',\n",
       " 'needn',\n",
       " \"needn't\",\n",
       " 'no',\n",
       " 'nor',\n",
       " 'not',\n",
       " 'now',\n",
       " 'o',\n",
       " 'of',\n",
       " 'off',\n",
       " 'on',\n",
       " 'once',\n",
       " 'only',\n",
       " 'or',\n",
       " 'other',\n",
       " 'our',\n",
       " 'ours',\n",
       " 'ourselves',\n",
       " 'out',\n",
       " 'over',\n",
       " 'own',\n",
       " 're',\n",
       " 's',\n",
       " 'same',\n",
       " 'shan',\n",
       " \"shan't\",\n",
       " 'she',\n",
       " \"she'd\",\n",
       " \"she'll\",\n",
       " \"she's\",\n",
       " 'should',\n",
       " \"should've\",\n",
       " 'shouldn',\n",
       " \"shouldn't\",\n",
       " 'so',\n",
       " 'some',\n",
       " 'such',\n",
       " 't',\n",
       " 'than',\n",
       " 'that',\n",
       " \"that'll\",\n",
       " 'the',\n",
       " 'their',\n",
       " 'theirs',\n",
       " 'them',\n",
       " 'themselves',\n",
       " 'then',\n",
       " 'there',\n",
       " 'these',\n",
       " 'they',\n",
       " \"they'd\",\n",
       " \"they'll\",\n",
       " \"they're\",\n",
       " \"they've\",\n",
       " 'this',\n",
       " 'those',\n",
       " 'through',\n",
       " 'to',\n",
       " 'too',\n",
       " 'under',\n",
       " 'until',\n",
       " 'up',\n",
       " 've',\n",
       " 'very',\n",
       " 'was',\n",
       " 'wasn',\n",
       " \"wasn't\",\n",
       " 'we',\n",
       " \"we'd\",\n",
       " \"we'll\",\n",
       " \"we're\",\n",
       " \"we've\",\n",
       " 'were',\n",
       " 'weren',\n",
       " \"weren't\",\n",
       " 'what',\n",
       " 'when',\n",
       " 'where',\n",
       " 'which',\n",
       " 'while',\n",
       " 'who',\n",
       " 'whom',\n",
       " 'why',\n",
       " 'will',\n",
       " 'with',\n",
       " 'won',\n",
       " \"won't\",\n",
       " 'wouldn',\n",
       " \"wouldn't\",\n",
       " 'y',\n",
       " 'you',\n",
       " \"you'd\",\n",
       " \"you'll\",\n",
       " \"you're\",\n",
       " \"you've\",\n",
       " 'your',\n",
       " 'yours',\n",
       " 'yourself',\n",
       " 'yourselves'}"
      ]
     },
     "execution_count": 164,
     "metadata": {},
     "output_type": "execute_result"
    }
   ],
   "source": [
    "# StopWords Removal\n",
    "from nltk.corpus import stopwords\n",
    "stop_words = set(stopwords.words(\"english\"))\n",
    "stop_words"
   ]
  },
  {
   "cell_type": "code",
   "execution_count": 159,
   "id": "f26c3642-d1cb-426b-9d98-236b45272d14",
   "metadata": {},
   "outputs": [
    {
     "name": "stdout",
     "output_type": "stream",
     "text": [
      "['python', 'high-level', ',', 'interpreted', 'programming', 'language', 'created', 'guido', 'van', 'rossum', 'first', 'released', '1991.', 'designed', 'emphasis', 'code', 'readability', ',', 'syntax', 'allows', 'programmers', 'express', 'concepts', 'fewer', 'lines', 'code', 'would', 'possible', 'languages', 'c++', 'java.\\\\n\\\\npython', 'supports', 'multiple', 'programming', 'paradigms', ',', 'including', 'procedural', ',', 'object-oriented', ',', 'functional', 'programming', '.', 'simpler', 'terms', ',', 'means', 'flexible', 'allows', 'write', 'code', 'different', 'ways', ',', 'whether', \"'s\", 'like', 'giving', 'computer', 'to-do', 'list', '(', 'procedural', ')', ',', 'creating', 'digital', 'models', 'things', 'concepts', '(', 'object-oriented', ')', ',', 'treating', 'code', 'like', 'math', 'problem', '(', 'functional', ')', '.']\n"
     ]
    }
   ],
   "source": [
    "# Removing StopWords\n",
    "\n",
    "filtered_words = []\n",
    "for i in tokenized_words:\n",
    "    if i not in stop_words:\n",
    "        filtered_words.append(i)\n",
    "\n",
    "print(filtered_words)"
   ]
  },
  {
   "cell_type": "code",
   "execution_count": 165,
   "id": "4869c1bd-0ca2-4390-924d-446401c597aa",
   "metadata": {},
   "outputs": [
    {
     "name": "stdout",
     "output_type": "stream",
     "text": [
      "['python', 'high-level', ',', 'interpret', 'program', 'languag', 'creat', 'guido', 'van', 'rossum', 'first', 'releas', '1991.', 'design', 'emphasi', 'code', 'readabl', ',', 'syntax', 'allow', 'programm', 'express', 'concept', 'fewer', 'line', 'code', 'would', 'possibl', 'languag', 'c++', 'java.\\\\n\\\\npython', 'support', 'multipl', 'program', 'paradigm', ',', 'includ', 'procedur', ',', 'object-ori', ',', 'function', 'program', '.', 'simpler', 'term', ',', 'mean', 'flexibl', 'allow', 'write', 'code', 'differ', 'way', ',', 'whether', \"'s\", 'like', 'give', 'comput', 'to-do', 'list', '(', 'procedur', ')', ',', 'creat', 'digit', 'model', 'thing', 'concept', '(', 'object-ori', ')', ',', 'treat', 'code', 'like', 'math', 'problem', '(', 'function', ')', '.']\n"
     ]
    }
   ],
   "source": [
    "# Stemming\n",
    "from nltk.stem import PorterStemmer\n",
    "\n",
    "stemmer = PorterStemmer()\n",
    "stemmed_words = []\n",
    "for word in filtered_words:\n",
    "    stem = stemmer.stem(word)\n",
    "    stemmed_words.append(stem)\n",
    "\n",
    "print(stemmed_words)"
   ]
  },
  {
   "cell_type": "code",
   "execution_count": 166,
   "id": "96453777-f7d6-42d3-9139-c4b26fe2430d",
   "metadata": {},
   "outputs": [
    {
     "name": "stdout",
     "output_type": "stream",
     "text": [
      "['python', 'high-level', ',', 'interpreted', 'programming', 'language', 'created', 'guido', 'van', 'rossum', 'first', 'released', '1991.', 'designed', 'emphasis', 'code', 'readability', ',', 'syntax', 'allows', 'programmer', 'express', 'concept', 'fewer', 'line', 'code', 'would', 'possible', 'language', 'c++', 'java.\\\\n\\\\npython', 'support', 'multiple', 'programming', 'paradigm', ',', 'including', 'procedural', ',', 'object-oriented', ',', 'functional', 'programming', '.', 'simpler', 'term', ',', 'mean', 'flexible', 'allows', 'write', 'code', 'different', 'way', ',', 'whether', \"'s\", 'like', 'giving', 'computer', 'to-do', 'list', '(', 'procedural', ')', ',', 'creating', 'digital', 'model', 'thing', 'concept', '(', 'object-oriented', ')', ',', 'treating', 'code', 'like', 'math', 'problem', '(', 'functional', ')', '.']\n"
     ]
    }
   ],
   "source": [
    "# Lemmitization\n",
    "from nltk.stem.wordnet import WordNetLemmatizer\n",
    "lemmatizer = WordNetLemmatizer()\n",
    "\n",
    "lemmatized_words = []\n",
    "for word in filtered_words:\n",
    "    lemma = lemmatizer.lemmatize(word)\n",
    "    lemmatized_words.append(lemma)\n",
    "\n",
    "print(lemmatized_words)\n"
   ]
  },
  {
   "cell_type": "code",
   "execution_count": 167,
   "id": "abe31044-0c14-4ec4-be58-416db6d07384",
   "metadata": {},
   "outputs": [
    {
     "name": "stdout",
     "output_type": "stream",
     "text": [
      "[('python', 'NN'), ('is', 'VBZ'), ('a', 'DT'), ('high-level', 'JJ'), (',', ','), ('interpreted', 'JJ'), ('programming', 'NN'), ('language', 'NN'), ('created', 'VBN'), ('by', 'IN'), ('guido', 'NN'), ('van', 'NN'), ('rossum', 'NN'), ('and', 'CC'), ('first', 'JJ'), ('released', 'VBN'), ('in', 'IN'), ('1991.', 'CD'), ('it', 'PRP'), ('is', 'VBZ'), ('designed', 'VBN'), ('with', 'IN'), ('an', 'DT'), ('emphasis', 'NN'), ('on', 'IN'), ('code', 'NN'), ('readability', 'NN'), (',', ','), ('and', 'CC'), ('its', 'PRP$'), ('syntax', 'NN'), ('allows', 'VBZ'), ('programmers', 'NNS'), ('to', 'TO'), ('express', 'VB'), ('concepts', 'NNS'), ('in', 'IN'), ('fewer', 'JJR'), ('lines', 'NNS'), ('of', 'IN'), ('code', 'NN'), ('than', 'IN'), ('would', 'MD'), ('be', 'VB'), ('possible', 'JJ'), ('in', 'IN'), ('languages', 'NNS'), ('such', 'JJ'), ('as', 'IN'), ('c++', 'NN'), ('or', 'CC'), ('java.\\\\n\\\\npython', 'NN'), ('supports', 'NNS'), ('multiple', 'JJ'), ('programming', 'VBG'), ('paradigms', 'NN'), (',', ','), ('including', 'VBG'), ('procedural', 'JJ'), (',', ','), ('object-oriented', 'JJ'), (',', ','), ('and', 'CC'), ('functional', 'JJ'), ('programming', 'NN'), ('.', '.'), ('in', 'IN'), ('simpler', 'NN'), ('terms', 'NNS'), (',', ','), ('this', 'DT'), ('means', 'VBZ'), ('its', 'PRP$'), ('flexible', 'JJ'), ('and', 'CC'), ('allows', 'VBZ'), ('you', 'PRP'), ('to', 'TO'), ('write', 'VB'), ('code', 'NN'), ('in', 'IN'), ('different', 'JJ'), ('ways', 'NNS'), (',', ','), ('whether', 'IN'), ('that', 'DT'), (\"'s\", 'VBZ'), ('like', 'IN'), ('giving', 'VBG'), ('the', 'DT'), ('computer', 'NN'), ('a', 'DT'), ('to-do', 'JJ'), ('list', 'NN'), ('(', '('), ('procedural', 'JJ'), (')', ')'), (',', ','), ('creating', 'VBG'), ('digital', 'JJ'), ('models', 'NNS'), ('of', 'IN'), ('things', 'NNS'), ('or', 'CC'), ('concepts', 'NNS'), ('(', '('), ('object-oriented', 'JJ'), (')', ')'), (',', ','), ('or', 'CC'), ('treating', 'VBG'), ('your', 'PRP$'), ('code', 'NN'), ('like', 'IN'), ('a', 'DT'), ('math', 'NN'), ('problem', 'NN'), ('(', '('), ('functional', 'JJ'), (')', ')'), ('.', '.')]\n"
     ]
    }
   ],
   "source": [
    "# POS Tagging\n",
    "tokens = word_tokenize(text)\n",
    "# print(tokens)\n",
    "tag_words = nltk.pos_tag(tokens)\n",
    "print(tag_words)"
   ]
  },
  {
   "cell_type": "code",
   "execution_count": 168,
   "id": "dc0e1ce6-04df-49c1-9736-926c03772a82",
   "metadata": {},
   "outputs": [],
   "source": [
    "import math\n",
    "\n",
    "def compute_idf(documents):\n",
    "    N = len(documents)  # Total number of documents\n",
    "    idf_dict = {}\n",
    "\n",
    "    # Step 1: Make a set of all unique words\n",
    "    all_words = set()\n",
    "    for doc in documents:\n",
    "        for word in doc:\n",
    "            all_words.add(word)\n",
    "\n",
    "    # Step 2: For each word, count how many documents contain it\n",
    "    for word in all_words:\n",
    "        count = 0\n",
    "        for doc in documents:\n",
    "            if word in doc:\n",
    "                count += 1\n",
    "\n",
    "        # Step 3: Apply IDF formula\n",
    "        idf_dict[word] = math.log(N / count)\n",
    "\n",
    "    return idf_dict"
   ]
  },
  {
   "cell_type": "code",
   "execution_count": 170,
   "id": "00ef3e94-b44d-4e5d-936c-e85f985e634b",
   "metadata": {},
   "outputs": [
    {
     "data": {
      "text/plain": [
       "{'computer': 0.6931471805599453,\n",
       " 'interpreted': 0.6931471805599453,\n",
       " 'multiple': 0.6931471805599453,\n",
       " 'object-oriented,': 0.6931471805599453,\n",
       " 'means': 0.6931471805599453,\n",
       " 'language': 0.6931471805599453,\n",
       " 'programmers': 0.6931471805599453,\n",
       " 'of': 0.0,\n",
       " 'such': 0.6931471805599453,\n",
       " 'python': 0.6931471805599453,\n",
       " 'as': 0.6931471805599453,\n",
       " 'express': 0.6931471805599453,\n",
       " '(procedural),': 0.6931471805599453,\n",
       " 'procedural,': 0.6931471805599453,\n",
       " 'readability,': 0.6931471805599453,\n",
       " 'simpler': 0.6931471805599453,\n",
       " 'your': 0.6931471805599453,\n",
       " 'syntax': 0.6931471805599453,\n",
       " 'by': 0.6931471805599453,\n",
       " 'treating': 0.6931471805599453,\n",
       " 'you': 0.6931471805599453,\n",
       " 'programming': 0.6931471805599453,\n",
       " 'creating': 0.6931471805599453,\n",
       " 'van': 0.6931471805599453,\n",
       " 'math': 0.6931471805599453,\n",
       " 'be': 0.6931471805599453,\n",
       " 'to-do': 0.6931471805599453,\n",
       " 'digital': 0.6931471805599453,\n",
       " 'programming.': 0.6931471805599453,\n",
       " 'would': 0.6931471805599453,\n",
       " 'code': 0.0,\n",
       " 'a': 0.0,\n",
       " 'models': 0.6931471805599453,\n",
       " 'languages': 0.6931471805599453,\n",
       " 'than': 0.6931471805599453,\n",
       " 'c++': 0.6931471805599453,\n",
       " 'emphasis': 0.6931471805599453,\n",
       " 'rossum': 0.6931471805599453,\n",
       " 'on': 0.6931471805599453,\n",
       " 'to': 0.0,\n",
       " 'released': 0.6931471805599453,\n",
       " 'in': 0.0,\n",
       " 'guido': 0.6931471805599453,\n",
       " 'giving': 0.6931471805599453,\n",
       " 'java.\\\\n\\\\npython': 0.6931471805599453,\n",
       " 'fewer': 0.6931471805599453,\n",
       " 'with': 0.6931471805599453,\n",
       " 'concepts': 0.0,\n",
       " 'flexible': 0.6931471805599453,\n",
       " 'like': 0.6931471805599453,\n",
       " 'functional': 0.6931471805599453,\n",
       " 'or': 0.0,\n",
       " '(functional).': 0.6931471805599453,\n",
       " 'write': 0.6931471805599453,\n",
       " 'paradigms,': 0.6931471805599453,\n",
       " 'problem': 0.6931471805599453,\n",
       " '1991.': 0.6931471805599453,\n",
       " 'designed': 0.6931471805599453,\n",
       " 'and': 0.0,\n",
       " \"that's\": 0.6931471805599453,\n",
       " 'created': 0.6931471805599453,\n",
       " 'including': 0.6931471805599453,\n",
       " 'lines': 0.6931471805599453,\n",
       " 'supports': 0.6931471805599453,\n",
       " 'the': 0.6931471805599453,\n",
       " 'list': 0.6931471805599453,\n",
       " 'different': 0.6931471805599453,\n",
       " 'is': 0.6931471805599453,\n",
       " 'terms,': 0.6931471805599453,\n",
       " '(object-oriented),': 0.6931471805599453,\n",
       " 'whether': 0.6931471805599453,\n",
       " 'ways,': 0.6931471805599453,\n",
       " 'an': 0.6931471805599453,\n",
       " 'this': 0.6931471805599453,\n",
       " 'things': 0.6931471805599453,\n",
       " 'its': 0.0,\n",
       " 'allows': 0.0,\n",
       " 'high-level,': 0.6931471805599453,\n",
       " 'first': 0.6931471805599453,\n",
       " 'possible': 0.6931471805599453,\n",
       " 'it': 0.6931471805599453}"
      ]
     },
     "execution_count": 170,
     "metadata": {},
     "output_type": "execute_result"
    }
   ],
   "source": [
    "\n",
    "tokenized_documents = [doc.lower().split() for doc in tokenized_sent]\n",
    "idf = compute_idf(tokenized_documents)\n",
    "idf"
   ]
  },
  {
   "cell_type": "code",
   "execution_count": null,
   "id": "dbea7855-6671-45db-81fa-e8149a8e7f81",
   "metadata": {},
   "outputs": [],
   "source": []
  }
 ],
 "metadata": {
  "kernelspec": {
   "display_name": "Python 3 (ipykernel)",
   "language": "python",
   "name": "python3"
  },
  "language_info": {
   "codemirror_mode": {
    "name": "ipython",
    "version": 3
   },
   "file_extension": ".py",
   "mimetype": "text/x-python",
   "name": "python",
   "nbconvert_exporter": "python",
   "pygments_lexer": "ipython3",
   "version": "3.12.2"
  }
 },
 "nbformat": 4,
 "nbformat_minor": 5
}
