{
 "cells": [
  {
   "cell_type": "code",
   "execution_count": null,
   "id": "2883dc73-e039-4c9d-a1c7-b82929af5eec",
   "metadata": {},
   "outputs": [],
   "source": []
  }
 ],
 "metadata": {
  "kernelspec": {
   "display_name": "",
   "name": ""
  },
  "language_info": {
   "name": ""
  }
 },
 "nbformat": 4,
 "nbformat_minor": 5
}
