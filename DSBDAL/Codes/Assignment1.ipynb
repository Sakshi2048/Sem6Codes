{
 "cells": [
  {
   "cell_type": "markdown",
   "id": "097440a0-3fd1-442c-a74c-072fd66a384c",
   "metadata": {},
   "source": [
    "Import Libraries"
   ]
  },
  {
   "cell_type": "code",
   "execution_count": 71,
   "id": "f2b8611e-3051-40c0-91eb-c87b34d5e1c9",
   "metadata": {},
   "outputs": [],
   "source": [
    "import pandas as pd        # for reading data"
   ]
  },
  {
   "cell_type": "code",
   "execution_count": 72,
   "id": "3d9c4227-69a5-48f1-b1a1-87e31fa8b4f9",
   "metadata": {},
   "outputs": [
    {
     "data": {
      "text/html": [
       "<div>\n",
       "<style scoped>\n",
       "    .dataframe tbody tr th:only-of-type {\n",
       "        vertical-align: middle;\n",
       "    }\n",
       "\n",
       "    .dataframe tbody tr th {\n",
       "        vertical-align: top;\n",
       "    }\n",
       "\n",
       "    .dataframe thead th {\n",
       "        text-align: right;\n",
       "    }\n",
       "</style>\n",
       "<table border=\"1\" class=\"dataframe\">\n",
       "  <thead>\n",
       "    <tr style=\"text-align: right;\">\n",
       "      <th></th>\n",
       "      <th>sepal_length</th>\n",
       "      <th>sepal_width</th>\n",
       "      <th>petal_length</th>\n",
       "      <th>petal_width</th>\n",
       "      <th>species</th>\n",
       "    </tr>\n",
       "  </thead>\n",
       "  <tbody>\n",
       "    <tr>\n",
       "      <th>0</th>\n",
       "      <td>5.1</td>\n",
       "      <td>3.5</td>\n",
       "      <td>1.4</td>\n",
       "      <td>0.2</td>\n",
       "      <td>Iris-setosa</td>\n",
       "    </tr>\n",
       "    <tr>\n",
       "      <th>1</th>\n",
       "      <td>4.9</td>\n",
       "      <td>3.0</td>\n",
       "      <td>1.4</td>\n",
       "      <td>0.2</td>\n",
       "      <td>Iris-setosa</td>\n",
       "    </tr>\n",
       "    <tr>\n",
       "      <th>2</th>\n",
       "      <td>4.7</td>\n",
       "      <td>3.2</td>\n",
       "      <td>1.3</td>\n",
       "      <td>0.2</td>\n",
       "      <td>Iris-setosa</td>\n",
       "    </tr>\n",
       "    <tr>\n",
       "      <th>3</th>\n",
       "      <td>4.6</td>\n",
       "      <td>3.1</td>\n",
       "      <td>1.5</td>\n",
       "      <td>0.2</td>\n",
       "      <td>Iris-setosa</td>\n",
       "    </tr>\n",
       "    <tr>\n",
       "      <th>4</th>\n",
       "      <td>5.0</td>\n",
       "      <td>3.6</td>\n",
       "      <td>1.4</td>\n",
       "      <td>0.2</td>\n",
       "      <td>Iris-setosa</td>\n",
       "    </tr>\n",
       "  </tbody>\n",
       "</table>\n",
       "</div>"
      ],
      "text/plain": [
       "   sepal_length  sepal_width  petal_length  petal_width      species\n",
       "0           5.1          3.5           1.4          0.2  Iris-setosa\n",
       "1           4.9          3.0           1.4          0.2  Iris-setosa\n",
       "2           4.7          3.2           1.3          0.2  Iris-setosa\n",
       "3           4.6          3.1           1.5          0.2  Iris-setosa\n",
       "4           5.0          3.6           1.4          0.2  Iris-setosa"
      ]
     },
     "execution_count": 72,
     "metadata": {},
     "output_type": "execute_result"
    }
   ],
   "source": [
    "# Load Data\n",
    "data = pd.read_csv('../Datasets/Iris.csv') \n",
    "data.head()  # Shows the first 5 rows of the data"
   ]
  },
  {
   "cell_type": "code",
   "execution_count": 73,
   "id": "ae7a00b2-d7f5-4507-9a58-170a3b870f9f",
   "metadata": {},
   "outputs": [
    {
     "data": {
      "text/html": [
       "<div>\n",
       "<style scoped>\n",
       "    .dataframe tbody tr th:only-of-type {\n",
       "        vertical-align: middle;\n",
       "    }\n",
       "\n",
       "    .dataframe tbody tr th {\n",
       "        vertical-align: top;\n",
       "    }\n",
       "\n",
       "    .dataframe thead th {\n",
       "        text-align: right;\n",
       "    }\n",
       "</style>\n",
       "<table border=\"1\" class=\"dataframe\">\n",
       "  <thead>\n",
       "    <tr style=\"text-align: right;\">\n",
       "      <th></th>\n",
       "      <th>sepal_length</th>\n",
       "      <th>sepal_width</th>\n",
       "      <th>petal_length</th>\n",
       "      <th>petal_width</th>\n",
       "      <th>species</th>\n",
       "    </tr>\n",
       "  </thead>\n",
       "  <tbody>\n",
       "    <tr>\n",
       "      <th>145</th>\n",
       "      <td>6.7</td>\n",
       "      <td>3.0</td>\n",
       "      <td>5.2</td>\n",
       "      <td>2.3</td>\n",
       "      <td>Iris-virginica</td>\n",
       "    </tr>\n",
       "    <tr>\n",
       "      <th>146</th>\n",
       "      <td>6.3</td>\n",
       "      <td>2.5</td>\n",
       "      <td>5.0</td>\n",
       "      <td>1.9</td>\n",
       "      <td>Iris-virginica</td>\n",
       "    </tr>\n",
       "    <tr>\n",
       "      <th>147</th>\n",
       "      <td>6.5</td>\n",
       "      <td>3.0</td>\n",
       "      <td>5.2</td>\n",
       "      <td>2.0</td>\n",
       "      <td>Iris-virginica</td>\n",
       "    </tr>\n",
       "    <tr>\n",
       "      <th>148</th>\n",
       "      <td>6.2</td>\n",
       "      <td>3.4</td>\n",
       "      <td>5.4</td>\n",
       "      <td>2.3</td>\n",
       "      <td>Iris-virginica</td>\n",
       "    </tr>\n",
       "    <tr>\n",
       "      <th>149</th>\n",
       "      <td>5.9</td>\n",
       "      <td>3.0</td>\n",
       "      <td>5.1</td>\n",
       "      <td>1.8</td>\n",
       "      <td>Iris-virginica</td>\n",
       "    </tr>\n",
       "  </tbody>\n",
       "</table>\n",
       "</div>"
      ],
      "text/plain": [
       "     sepal_length  sepal_width  petal_length  petal_width         species\n",
       "145           6.7          3.0           5.2          2.3  Iris-virginica\n",
       "146           6.3          2.5           5.0          1.9  Iris-virginica\n",
       "147           6.5          3.0           5.2          2.0  Iris-virginica\n",
       "148           6.2          3.4           5.4          2.3  Iris-virginica\n",
       "149           5.9          3.0           5.1          1.8  Iris-virginica"
      ]
     },
     "execution_count": 73,
     "metadata": {},
     "output_type": "execute_result"
    }
   ],
   "source": [
    "data.tail()     # Last 5 rows"
   ]
  },
  {
   "cell_type": "code",
   "execution_count": 74,
   "id": "afa496df-334f-4e47-9ee5-ad689bf362db",
   "metadata": {},
   "outputs": [
    {
     "data": {
      "text/plain": [
       "Index(['sepal_length', 'sepal_width', 'petal_length', 'petal_width',\n",
       "       'species'],\n",
       "      dtype='object')"
      ]
     },
     "execution_count": 74,
     "metadata": {},
     "output_type": "execute_result"
    }
   ],
   "source": [
    "data.columns"
   ]
  },
  {
   "cell_type": "code",
   "execution_count": 75,
   "id": "a20ba5e9-06f4-4e3d-9449-596ea0ada3db",
   "metadata": {},
   "outputs": [
    {
     "data": {
      "text/plain": [
       "sepal_length    float64\n",
       "sepal_width     float64\n",
       "petal_length    float64\n",
       "petal_width     float64\n",
       "species          object\n",
       "dtype: object"
      ]
     },
     "execution_count": 75,
     "metadata": {},
     "output_type": "execute_result"
    }
   ],
   "source": [
    "data.dtypes"
   ]
  },
  {
   "cell_type": "code",
   "execution_count": 76,
   "id": "4fe74e5f-9351-4e03-8fc8-cdbd739849a7",
   "metadata": {},
   "outputs": [
    {
     "data": {
      "text/plain": [
       "(150, 5)"
      ]
     },
     "execution_count": 76,
     "metadata": {},
     "output_type": "execute_result"
    }
   ],
   "source": [
    "data.shape"
   ]
  },
  {
   "cell_type": "code",
   "execution_count": 77,
   "id": "00bbab39-831c-4194-9269-fd9b162ecc28",
   "metadata": {},
   "outputs": [
    {
     "name": "stdout",
     "output_type": "stream",
     "text": [
      "<class 'pandas.core.frame.DataFrame'>\n",
      "RangeIndex: 150 entries, 0 to 149\n",
      "Data columns (total 5 columns):\n",
      " #   Column        Non-Null Count  Dtype  \n",
      "---  ------        --------------  -----  \n",
      " 0   sepal_length  150 non-null    float64\n",
      " 1   sepal_width   150 non-null    float64\n",
      " 2   petal_length  150 non-null    float64\n",
      " 3   petal_width   150 non-null    float64\n",
      " 4   species       150 non-null    object \n",
      "dtypes: float64(4), object(1)\n",
      "memory usage: 6.0+ KB\n"
     ]
    }
   ],
   "source": [
    "data.info()"
   ]
  },
  {
   "cell_type": "code",
   "execution_count": 78,
   "id": "5db5c38e-b044-4265-8efb-4e29e1352842",
   "metadata": {},
   "outputs": [
    {
     "data": {
      "text/html": [
       "<div>\n",
       "<style scoped>\n",
       "    .dataframe tbody tr th:only-of-type {\n",
       "        vertical-align: middle;\n",
       "    }\n",
       "\n",
       "    .dataframe tbody tr th {\n",
       "        vertical-align: top;\n",
       "    }\n",
       "\n",
       "    .dataframe thead th {\n",
       "        text-align: right;\n",
       "    }\n",
       "</style>\n",
       "<table border=\"1\" class=\"dataframe\">\n",
       "  <thead>\n",
       "    <tr style=\"text-align: right;\">\n",
       "      <th></th>\n",
       "      <th>sepal_length</th>\n",
       "      <th>sepal_width</th>\n",
       "      <th>petal_length</th>\n",
       "      <th>petal_width</th>\n",
       "    </tr>\n",
       "  </thead>\n",
       "  <tbody>\n",
       "    <tr>\n",
       "      <th>count</th>\n",
       "      <td>150.000000</td>\n",
       "      <td>150.000000</td>\n",
       "      <td>150.000000</td>\n",
       "      <td>150.000000</td>\n",
       "    </tr>\n",
       "    <tr>\n",
       "      <th>mean</th>\n",
       "      <td>5.843333</td>\n",
       "      <td>3.054000</td>\n",
       "      <td>3.758667</td>\n",
       "      <td>1.198667</td>\n",
       "    </tr>\n",
       "    <tr>\n",
       "      <th>std</th>\n",
       "      <td>0.828066</td>\n",
       "      <td>0.433594</td>\n",
       "      <td>1.764420</td>\n",
       "      <td>0.763161</td>\n",
       "    </tr>\n",
       "    <tr>\n",
       "      <th>min</th>\n",
       "      <td>4.300000</td>\n",
       "      <td>2.000000</td>\n",
       "      <td>1.000000</td>\n",
       "      <td>0.100000</td>\n",
       "    </tr>\n",
       "    <tr>\n",
       "      <th>25%</th>\n",
       "      <td>5.100000</td>\n",
       "      <td>2.800000</td>\n",
       "      <td>1.600000</td>\n",
       "      <td>0.300000</td>\n",
       "    </tr>\n",
       "    <tr>\n",
       "      <th>50%</th>\n",
       "      <td>5.800000</td>\n",
       "      <td>3.000000</td>\n",
       "      <td>4.350000</td>\n",
       "      <td>1.300000</td>\n",
       "    </tr>\n",
       "    <tr>\n",
       "      <th>75%</th>\n",
       "      <td>6.400000</td>\n",
       "      <td>3.300000</td>\n",
       "      <td>5.100000</td>\n",
       "      <td>1.800000</td>\n",
       "    </tr>\n",
       "    <tr>\n",
       "      <th>max</th>\n",
       "      <td>7.900000</td>\n",
       "      <td>4.400000</td>\n",
       "      <td>6.900000</td>\n",
       "      <td>2.500000</td>\n",
       "    </tr>\n",
       "  </tbody>\n",
       "</table>\n",
       "</div>"
      ],
      "text/plain": [
       "       sepal_length  sepal_width  petal_length  petal_width\n",
       "count    150.000000   150.000000    150.000000   150.000000\n",
       "mean       5.843333     3.054000      3.758667     1.198667\n",
       "std        0.828066     0.433594      1.764420     0.763161\n",
       "min        4.300000     2.000000      1.000000     0.100000\n",
       "25%        5.100000     2.800000      1.600000     0.300000\n",
       "50%        5.800000     3.000000      4.350000     1.300000\n",
       "75%        6.400000     3.300000      5.100000     1.800000\n",
       "max        7.900000     4.400000      6.900000     2.500000"
      ]
     },
     "execution_count": 78,
     "metadata": {},
     "output_type": "execute_result"
    }
   ],
   "source": [
    "data.describe()"
   ]
  },
  {
   "cell_type": "code",
   "execution_count": 79,
   "id": "70e90ca3-b4b2-4c05-9e5f-6432997db1dc",
   "metadata": {},
   "outputs": [
    {
     "data": {
      "text/plain": [
       "species\n",
       "Iris-setosa        50\n",
       "Iris-versicolor    50\n",
       "Iris-virginica     50\n",
       "Name: count, dtype: int64"
      ]
     },
     "execution_count": 79,
     "metadata": {},
     "output_type": "execute_result"
    }
   ],
   "source": [
    "# Species wise count\n",
    "data['species'].value_counts()"
   ]
  },
  {
   "cell_type": "code",
   "execution_count": 80,
   "id": "41b8dc5c-71c2-446d-80ee-f1721027bf4b",
   "metadata": {},
   "outputs": [
    {
     "name": "stdout",
     "output_type": "stream",
     "text": [
      "Mean =  5.843333333333334\n",
      "Median =  5.8\n",
      "Mode =  0    5.0\n",
      "Name: sepal_length, dtype: float64\n"
     ]
    }
   ],
   "source": [
    "# Mean,Median, Mode Values\n",
    "m1 = data['sepal_length'].mean()\n",
    "m2 = data['sepal_length'].median()\n",
    "m3 = data['sepal_length'].mode()\n",
    "\n",
    "print(\"Mean = \",m1)\n",
    "print(\"Median = \",m2)\n",
    "print(\"Mode = \",m3)\n",
    "\n",
    "# Similarly we can find the central values for other columns also"
   ]
  },
  {
   "cell_type": "code",
   "execution_count": 81,
   "id": "875dc9ef-87c7-466b-b907-08d24418e9fa",
   "metadata": {},
   "outputs": [
    {
     "name": "stdout",
     "output_type": "stream",
     "text": [
      "sepal_length    0\n",
      "sepal_width     0\n",
      "petal_length    0\n",
      "petal_width     0\n",
      "species         0\n",
      "dtype: int64\n"
     ]
    }
   ],
   "source": [
    "# Missing values\n",
    "print(data.isnull().sum())"
   ]
  },
  {
   "cell_type": "code",
   "execution_count": 82,
   "id": "a8147a40-a1f1-45ab-98be-294991a91124",
   "metadata": {},
   "outputs": [],
   "source": [
    "# If there is any missing value\n",
    "\n",
    "# Fill missing values with mean\n",
    "data['sepal_length'] = data['sepal_length'].fillna(data['sepal_length'].mean()) "
   ]
  },
  {
   "cell_type": "code",
   "execution_count": 83,
   "id": "d5d926e9-35df-4a87-8199-2239667e0a85",
   "metadata": {},
   "outputs": [
    {
     "data": {
      "text/plain": [
       "float64    4\n",
       "object     1\n",
       "Name: count, dtype: int64"
      ]
     },
     "execution_count": 83,
     "metadata": {},
     "output_type": "execute_result"
    }
   ],
   "source": [
    "data.dtypes.value_counts()"
   ]
  },
  {
   "cell_type": "code",
   "execution_count": 84,
   "id": "164834fa-498d-4f3a-95c9-4176de114f57",
   "metadata": {},
   "outputs": [],
   "source": [
    "# Convert Object (species) column to String \n",
    "data['species'] = data['species'].astype('string')"
   ]
  },
  {
   "cell_type": "code",
   "execution_count": 85,
   "id": "c07ffaa9-ef55-4c39-affa-43bcc60c68cb",
   "metadata": {},
   "outputs": [
    {
     "data": {
      "text/plain": [
       "float64           4\n",
       "string[python]    1\n",
       "Name: count, dtype: int64"
      ]
     },
     "execution_count": 85,
     "metadata": {},
     "output_type": "execute_result"
    }
   ],
   "source": [
    "data.dtypes.value_counts()"
   ]
  },
  {
   "cell_type": "code",
   "execution_count": 86,
   "id": "9226c958-63fe-41dd-af62-fa2617ca77b1",
   "metadata": {},
   "outputs": [
    {
     "data": {
      "text/plain": [
       "species\n",
       "Iris-setosa        50\n",
       "Iris-versicolor    50\n",
       "Iris-virginica     50\n",
       "Name: count, dtype: Int64"
      ]
     },
     "execution_count": 86,
     "metadata": {},
     "output_type": "execute_result"
    }
   ],
   "source": [
    "# No.of rows per cetgory\n",
    "data['species'].value_counts()"
   ]
  },
  {
   "cell_type": "code",
   "execution_count": 88,
   "id": "07a05a82-e2c9-40b7-a136-bc8eef6c3166",
   "metadata": {},
   "outputs": [],
   "source": [
    "# Standardization\n",
    "\n",
    "from sklearn.preprocessing import StandardScaler\n",
    "standard_scaler = StandardScaler()\n",
    "\n",
    "scaled_data = standard_scaler.fit_transform(data['sepal_length'].values.reshape(-1,1))"
   ]
  },
  {
   "cell_type": "code",
   "execution_count": 90,
   "id": "9053ae93-872d-4816-884c-e99e1e2b23b4",
   "metadata": {},
   "outputs": [],
   "source": [
    "data['sepal_length'] = standard_scaler.fit_transform(data['sepal_length'].values.reshape(-1,1))"
   ]
  },
  {
   "cell_type": "code",
   "execution_count": 91,
   "id": "31b98aeb-d374-4b39-9829-1cc788bb018a",
   "metadata": {},
   "outputs": [
    {
     "data": {
      "text/html": [
       "<div>\n",
       "<style scoped>\n",
       "    .dataframe tbody tr th:only-of-type {\n",
       "        vertical-align: middle;\n",
       "    }\n",
       "\n",
       "    .dataframe tbody tr th {\n",
       "        vertical-align: top;\n",
       "    }\n",
       "\n",
       "    .dataframe thead th {\n",
       "        text-align: right;\n",
       "    }\n",
       "</style>\n",
       "<table border=\"1\" class=\"dataframe\">\n",
       "  <thead>\n",
       "    <tr style=\"text-align: right;\">\n",
       "      <th></th>\n",
       "      <th>sepal_length</th>\n",
       "      <th>sepal_width</th>\n",
       "      <th>petal_length</th>\n",
       "      <th>petal_width</th>\n",
       "      <th>species</th>\n",
       "    </tr>\n",
       "  </thead>\n",
       "  <tbody>\n",
       "    <tr>\n",
       "      <th>0</th>\n",
       "      <td>-0.900681</td>\n",
       "      <td>3.5</td>\n",
       "      <td>1.4</td>\n",
       "      <td>0.2</td>\n",
       "      <td>Iris-setosa</td>\n",
       "    </tr>\n",
       "    <tr>\n",
       "      <th>1</th>\n",
       "      <td>-1.143017</td>\n",
       "      <td>3.0</td>\n",
       "      <td>1.4</td>\n",
       "      <td>0.2</td>\n",
       "      <td>Iris-setosa</td>\n",
       "    </tr>\n",
       "    <tr>\n",
       "      <th>2</th>\n",
       "      <td>-1.385353</td>\n",
       "      <td>3.2</td>\n",
       "      <td>1.3</td>\n",
       "      <td>0.2</td>\n",
       "      <td>Iris-setosa</td>\n",
       "    </tr>\n",
       "    <tr>\n",
       "      <th>3</th>\n",
       "      <td>-1.506521</td>\n",
       "      <td>3.1</td>\n",
       "      <td>1.5</td>\n",
       "      <td>0.2</td>\n",
       "      <td>Iris-setosa</td>\n",
       "    </tr>\n",
       "    <tr>\n",
       "      <th>4</th>\n",
       "      <td>-1.021849</td>\n",
       "      <td>3.6</td>\n",
       "      <td>1.4</td>\n",
       "      <td>0.2</td>\n",
       "      <td>Iris-setosa</td>\n",
       "    </tr>\n",
       "  </tbody>\n",
       "</table>\n",
       "</div>"
      ],
      "text/plain": [
       "   sepal_length  sepal_width  petal_length  petal_width      species\n",
       "0     -0.900681          3.5           1.4          0.2  Iris-setosa\n",
       "1     -1.143017          3.0           1.4          0.2  Iris-setosa\n",
       "2     -1.385353          3.2           1.3          0.2  Iris-setosa\n",
       "3     -1.506521          3.1           1.5          0.2  Iris-setosa\n",
       "4     -1.021849          3.6           1.4          0.2  Iris-setosa"
      ]
     },
     "execution_count": 91,
     "metadata": {},
     "output_type": "execute_result"
    }
   ],
   "source": [
    "data.head()"
   ]
  },
  {
   "cell_type": "code",
   "execution_count": 92,
   "id": "cab64d73-92c3-4a96-865a-1862073c11ed",
   "metadata": {},
   "outputs": [
    {
     "data": {
      "text/plain": [
       "array([[-0.90068117],\n",
       "       [-1.14301691],\n",
       "       [-1.38535265],\n",
       "       [-1.50652052],\n",
       "       [-1.02184904],\n",
       "       [-0.53717756],\n",
       "       [-1.50652052],\n",
       "       [-1.02184904],\n",
       "       [-1.74885626],\n",
       "       [-1.14301691],\n",
       "       [-0.53717756],\n",
       "       [-1.26418478],\n",
       "       [-1.26418478],\n",
       "       [-1.87002413],\n",
       "       [-0.05250608],\n",
       "       [-0.17367395],\n",
       "       [-0.53717756],\n",
       "       [-0.90068117],\n",
       "       [-0.17367395],\n",
       "       [-0.90068117],\n",
       "       [-0.53717756],\n",
       "       [-0.90068117],\n",
       "       [-1.50652052],\n",
       "       [-0.90068117],\n",
       "       [-1.26418478],\n",
       "       [-1.02184904],\n",
       "       [-1.02184904],\n",
       "       [-0.7795133 ],\n",
       "       [-0.7795133 ],\n",
       "       [-1.38535265],\n",
       "       [-1.26418478],\n",
       "       [-0.53717756],\n",
       "       [-0.7795133 ],\n",
       "       [-0.41600969],\n",
       "       [-1.14301691],\n",
       "       [-1.02184904],\n",
       "       [-0.41600969],\n",
       "       [-1.14301691],\n",
       "       [-1.74885626],\n",
       "       [-0.90068117],\n",
       "       [-1.02184904],\n",
       "       [-1.62768839],\n",
       "       [-1.74885626],\n",
       "       [-1.02184904],\n",
       "       [-0.90068117],\n",
       "       [-1.26418478],\n",
       "       [-0.90068117],\n",
       "       [-1.50652052],\n",
       "       [-0.65834543],\n",
       "       [-1.02184904],\n",
       "       [ 1.40150837],\n",
       "       [ 0.67450115],\n",
       "       [ 1.2803405 ],\n",
       "       [-0.41600969],\n",
       "       [ 0.79566902],\n",
       "       [-0.17367395],\n",
       "       [ 0.55333328],\n",
       "       [-1.14301691],\n",
       "       [ 0.91683689],\n",
       "       [-0.7795133 ],\n",
       "       [-1.02184904],\n",
       "       [ 0.06866179],\n",
       "       [ 0.18982966],\n",
       "       [ 0.31099753],\n",
       "       [-0.29484182],\n",
       "       [ 1.03800476],\n",
       "       [-0.29484182],\n",
       "       [-0.05250608],\n",
       "       [ 0.4321654 ],\n",
       "       [-0.29484182],\n",
       "       [ 0.06866179],\n",
       "       [ 0.31099753],\n",
       "       [ 0.55333328],\n",
       "       [ 0.31099753],\n",
       "       [ 0.67450115],\n",
       "       [ 0.91683689],\n",
       "       [ 1.15917263],\n",
       "       [ 1.03800476],\n",
       "       [ 0.18982966],\n",
       "       [-0.17367395],\n",
       "       [-0.41600969],\n",
       "       [-0.41600969],\n",
       "       [-0.05250608],\n",
       "       [ 0.18982966],\n",
       "       [-0.53717756],\n",
       "       [ 0.18982966],\n",
       "       [ 1.03800476],\n",
       "       [ 0.55333328],\n",
       "       [-0.29484182],\n",
       "       [-0.41600969],\n",
       "       [-0.41600969],\n",
       "       [ 0.31099753],\n",
       "       [-0.05250608],\n",
       "       [-1.02184904],\n",
       "       [-0.29484182],\n",
       "       [-0.17367395],\n",
       "       [-0.17367395],\n",
       "       [ 0.4321654 ],\n",
       "       [-0.90068117],\n",
       "       [-0.17367395],\n",
       "       [ 0.55333328],\n",
       "       [-0.05250608],\n",
       "       [ 1.52267624],\n",
       "       [ 0.55333328],\n",
       "       [ 0.79566902],\n",
       "       [ 2.12851559],\n",
       "       [-1.14301691],\n",
       "       [ 1.76501198],\n",
       "       [ 1.03800476],\n",
       "       [ 1.64384411],\n",
       "       [ 0.79566902],\n",
       "       [ 0.67450115],\n",
       "       [ 1.15917263],\n",
       "       [-0.17367395],\n",
       "       [-0.05250608],\n",
       "       [ 0.67450115],\n",
       "       [ 0.79566902],\n",
       "       [ 2.24968346],\n",
       "       [ 2.24968346],\n",
       "       [ 0.18982966],\n",
       "       [ 1.2803405 ],\n",
       "       [-0.29484182],\n",
       "       [ 2.24968346],\n",
       "       [ 0.55333328],\n",
       "       [ 1.03800476],\n",
       "       [ 1.64384411],\n",
       "       [ 0.4321654 ],\n",
       "       [ 0.31099753],\n",
       "       [ 0.67450115],\n",
       "       [ 1.64384411],\n",
       "       [ 1.88617985],\n",
       "       [ 2.4920192 ],\n",
       "       [ 0.67450115],\n",
       "       [ 0.55333328],\n",
       "       [ 0.31099753],\n",
       "       [ 2.24968346],\n",
       "       [ 0.55333328],\n",
       "       [ 0.67450115],\n",
       "       [ 0.18982966],\n",
       "       [ 1.2803405 ],\n",
       "       [ 1.03800476],\n",
       "       [ 1.2803405 ],\n",
       "       [-0.05250608],\n",
       "       [ 1.15917263],\n",
       "       [ 1.03800476],\n",
       "       [ 1.03800476],\n",
       "       [ 0.55333328],\n",
       "       [ 0.79566902],\n",
       "       [ 0.4321654 ],\n",
       "       [ 0.06866179]])"
      ]
     },
     "execution_count": 92,
     "metadata": {},
     "output_type": "execute_result"
    }
   ],
   "source": [
    "scaled_data"
   ]
  },
  {
   "cell_type": "code",
   "execution_count": 93,
   "id": "87a8171d-774f-450c-87ab-bc0d11f16d04",
   "metadata": {},
   "outputs": [
    {
     "name": "stdout",
     "output_type": "stream",
     "text": [
      "-4.736951571734001e-16\n"
     ]
    }
   ],
   "source": [
    "print(scaled_data.mean())"
   ]
  },
  {
   "cell_type": "markdown",
   "id": "00e645e5-a560-40dc-a7f6-645608778034",
   "metadata": {},
   "source": [
    "Min Max Normalization / Scaling"
   ]
  },
  {
   "cell_type": "code",
   "execution_count": 97,
   "id": "535a08f7-b541-47bd-8ede-75a73de6ae31",
   "metadata": {},
   "outputs": [
    {
     "name": "stdout",
     "output_type": "stream",
     "text": [
      "[[0.06779661]\n",
      " [0.06779661]\n",
      " [0.05084746]\n",
      " [0.08474576]\n",
      " [0.06779661]\n",
      " [0.11864407]\n",
      " [0.06779661]\n",
      " [0.08474576]\n",
      " [0.06779661]\n",
      " [0.08474576]\n",
      " [0.08474576]\n",
      " [0.10169492]\n",
      " [0.06779661]\n",
      " [0.01694915]\n",
      " [0.03389831]\n",
      " [0.08474576]\n",
      " [0.05084746]\n",
      " [0.06779661]\n",
      " [0.11864407]\n",
      " [0.08474576]\n",
      " [0.11864407]\n",
      " [0.08474576]\n",
      " [0.        ]\n",
      " [0.11864407]\n",
      " [0.15254237]\n",
      " [0.10169492]\n",
      " [0.10169492]\n",
      " [0.08474576]\n",
      " [0.06779661]\n",
      " [0.10169492]\n",
      " [0.10169492]\n",
      " [0.08474576]\n",
      " [0.08474576]\n",
      " [0.06779661]\n",
      " [0.08474576]\n",
      " [0.03389831]\n",
      " [0.05084746]\n",
      " [0.08474576]\n",
      " [0.05084746]\n",
      " [0.08474576]\n",
      " [0.05084746]\n",
      " [0.05084746]\n",
      " [0.05084746]\n",
      " [0.10169492]\n",
      " [0.15254237]\n",
      " [0.06779661]\n",
      " [0.10169492]\n",
      " [0.06779661]\n",
      " [0.08474576]\n",
      " [0.06779661]\n",
      " [0.62711864]\n",
      " [0.59322034]\n",
      " [0.66101695]\n",
      " [0.50847458]\n",
      " [0.61016949]\n",
      " [0.59322034]\n",
      " [0.62711864]\n",
      " [0.38983051]\n",
      " [0.61016949]\n",
      " [0.49152542]\n",
      " [0.42372881]\n",
      " [0.54237288]\n",
      " [0.50847458]\n",
      " [0.62711864]\n",
      " [0.44067797]\n",
      " [0.57627119]\n",
      " [0.59322034]\n",
      " [0.52542373]\n",
      " [0.59322034]\n",
      " [0.49152542]\n",
      " [0.6440678 ]\n",
      " [0.50847458]\n",
      " [0.66101695]\n",
      " [0.62711864]\n",
      " [0.55932203]\n",
      " [0.57627119]\n",
      " [0.6440678 ]\n",
      " [0.6779661 ]\n",
      " [0.59322034]\n",
      " [0.42372881]\n",
      " [0.47457627]\n",
      " [0.45762712]\n",
      " [0.49152542]\n",
      " [0.69491525]\n",
      " [0.59322034]\n",
      " [0.59322034]\n",
      " [0.62711864]\n",
      " [0.57627119]\n",
      " [0.52542373]\n",
      " [0.50847458]\n",
      " [0.57627119]\n",
      " [0.61016949]\n",
      " [0.50847458]\n",
      " [0.38983051]\n",
      " [0.54237288]\n",
      " [0.54237288]\n",
      " [0.54237288]\n",
      " [0.55932203]\n",
      " [0.33898305]\n",
      " [0.52542373]\n",
      " [0.84745763]\n",
      " [0.69491525]\n",
      " [0.83050847]\n",
      " [0.77966102]\n",
      " [0.81355932]\n",
      " [0.94915254]\n",
      " [0.59322034]\n",
      " [0.89830508]\n",
      " [0.81355932]\n",
      " [0.86440678]\n",
      " [0.69491525]\n",
      " [0.72881356]\n",
      " [0.76271186]\n",
      " [0.6779661 ]\n",
      " [0.69491525]\n",
      " [0.72881356]\n",
      " [0.76271186]\n",
      " [0.96610169]\n",
      " [1.        ]\n",
      " [0.6779661 ]\n",
      " [0.79661017]\n",
      " [0.66101695]\n",
      " [0.96610169]\n",
      " [0.66101695]\n",
      " [0.79661017]\n",
      " [0.84745763]\n",
      " [0.6440678 ]\n",
      " [0.66101695]\n",
      " [0.77966102]\n",
      " [0.81355932]\n",
      " [0.86440678]\n",
      " [0.91525424]\n",
      " [0.77966102]\n",
      " [0.69491525]\n",
      " [0.77966102]\n",
      " [0.86440678]\n",
      " [0.77966102]\n",
      " [0.76271186]\n",
      " [0.6440678 ]\n",
      " [0.74576271]\n",
      " [0.77966102]\n",
      " [0.69491525]\n",
      " [0.69491525]\n",
      " [0.83050847]\n",
      " [0.79661017]\n",
      " [0.71186441]\n",
      " [0.6779661 ]\n",
      " [0.71186441]\n",
      " [0.74576271]\n",
      " [0.69491525]]\n"
     ]
    }
   ],
   "source": [
    "from sklearn.preprocessing import MinMaxScaler\n",
    "\n",
    "scaler = MinMaxScaler()\n",
    "\n",
    "normalized_data = scaler.fit_transform(data['petal_length'].values.reshape(-1, 1))\n",
    "\n",
    "print(normalized_data)"
   ]
  },
  {
   "cell_type": "code",
   "execution_count": null,
   "id": "f636d667-00c2-4cbd-a212-97e323466927",
   "metadata": {},
   "outputs": [],
   "source": [
    "# Custom function - scaling\n",
    "def scaling(data):\n",
    "    mean = np.mean(data)\n",
    "    std = np.std(data)\n",
    "    for x in data:\n",
    "        s = [(x-mean)/std]\n",
    "    return s\n",
    "    "
   ]
  },
  {
   "cell_type": "code",
   "execution_count": null,
   "id": "0eeee519-18b7-4eb6-b87c-222effb7afbe",
   "metadata": {},
   "outputs": [],
   "source": [
    "# Using Custom function - minMaxScaler\n",
    "def minMaxScaler(data):\n",
    "    min_val = min(data)\n",
    "    max_val = max(data)\n",
    "    for x in data:\n",
    "        s = [(x-min_val)/(max_val-min_val)]\n",
    "    return s\n",
    "\n",
    "petal_lengths = data['petal_length'].values\n",
    "scaled = minMaxScaler(petal_lengths)\n",
    "print(scaled)"
   ]
  },
  {
   "cell_type": "code",
   "execution_count": null,
   "id": "22cb97c9-90b7-4647-b551-8159248a8383",
   "metadata": {},
   "outputs": [],
   "source": [
    "data.head()"
   ]
  },
  {
   "cell_type": "code",
   "execution_count": null,
   "id": "14d2ddb5-083e-41cd-a3bb-de039917baea",
   "metadata": {},
   "outputs": [],
   "source": [
    "data['petal_length'] = normalized_data"
   ]
  },
  {
   "cell_type": "code",
   "execution_count": null,
   "id": "e91441d5-9dbf-42e7-b2ba-b5c2c7f07e69",
   "metadata": {},
   "outputs": [],
   "source": [
    "data.head()"
   ]
  },
  {
   "cell_type": "code",
   "execution_count": null,
   "id": "e00a66f7-a2cc-4ba0-85d7-4e66f538fa10",
   "metadata": {},
   "outputs": [],
   "source": [
    "data['sepal_length'] = scaled_data"
   ]
  },
  {
   "cell_type": "code",
   "execution_count": null,
   "id": "88ee542a-e8ad-4d4c-bd60-17645233e0e9",
   "metadata": {},
   "outputs": [],
   "source": [
    "data.head()"
   ]
  },
  {
   "cell_type": "code",
   "execution_count": null,
   "id": "dc9d1b51-2756-432b-be77-3018674a08fe",
   "metadata": {},
   "outputs": [],
   "source": [
    "# Scaling multiple columns at a time\n",
    "\n",
    "from sklearn.preprocessing import StandardScaler\n",
    "\n",
    "# Select numeric columns to scale\n",
    "numeric_cols = ['sepal_width','petal_width','petal_length']\n",
    "\n",
    "scaler = StandardScaler()\n",
    "scaled_columns = scaler.fit_transform(data[numeric_cols])\n",
    "\n",
    "# Replace original values with scaled values\n",
    "data[numeric_cols] = scaled_columns\n",
    "\n",
    "# Show the updated DataFrame\n",
    "print(data.head())\n"
   ]
  },
  {
   "cell_type": "markdown",
   "id": "d6bffeef-9c1e-4f4b-9d37-09c044723af0",
   "metadata": {},
   "source": [
    "species is a categorical column in the Iris dataset, you can encode it using either: 1) Label encoding 2) One hot encoding"
   ]
  },
  {
   "cell_type": "markdown",
   "id": "2e7528c2-9632-4c84-a50f-9af203401c52",
   "metadata": {},
   "source": [
    "Label Encoding"
   ]
  },
  {
   "cell_type": "markdown",
   "id": "f34ab091-c1c7-48f5-ae14-9de76a8a1141",
   "metadata": {},
   "source": [
    "'Iris-setosa' → 0\n",
    "'Iris-versicolor' → 1\n",
    "'Iris-virginica' → 2"
   ]
  },
  {
   "cell_type": "code",
   "execution_count": null,
   "id": "6d5d860c-c4ea-4f8e-8b89-0a52906271e3",
   "metadata": {},
   "outputs": [],
   "source": [
    "from sklearn.preprocessing import LabelEncoder\n",
    "le = LabelEncoder()\n",
    "data['species'] = le.fit_transform(data['species'])\n",
    "\n",
    "print(data.head())"
   ]
  },
  {
   "cell_type": "code",
   "execution_count": null,
   "id": "9b73c44b-fdda-42d2-9c90-e38b310d0622",
   "metadata": {},
   "outputs": [],
   "source": [
    "data.tail()"
   ]
  },
  {
   "cell_type": "markdown",
   "id": "fc4a2889-244e-413f-a835-d93d08838f86",
   "metadata": {},
   "source": [
    " One-Hot Encoding"
   ]
  },
  {
   "cell_type": "code",
   "execution_count": null,
   "id": "2701e98c-6264-4b53-b1be-c8d3e74a2946",
   "metadata": {},
   "outputs": [],
   "source": [
    "from sklearn.preprocessing import OneHotEncoder\n",
    "import pandas as pd\n",
    "\n",
    "# Extract species column as a DataFrame\n",
    "species = data[['species']]\n",
    "\n",
    "# Use sparse_output instead of sparse\n",
    "encoder = OneHotEncoder(sparse_output=False)  \n",
    "encoded_species = encoder.fit_transform(species)\n",
    "\n",
    "# Convert to a DataFrame\n",
    "encoded_df = pd.DataFrame(encoded_species, columns=encoder.get_feature_names_out(['species']))\n",
    "\n",
    "# Display top rows\n",
    "print(encoded_df.head())\n"
   ]
  },
  {
   "cell_type": "markdown",
   "id": "c2acaae4-7f0b-4c6a-bb29-ff4897b3fe07",
   "metadata": {},
   "source": [
    "Dummy Coding"
   ]
  },
  {
   "cell_type": "code",
   "execution_count": null,
   "id": "fc0c580d-0b59-43f6-88fc-56205ada35a0",
   "metadata": {},
   "outputs": [],
   "source": [
    "new_data = pd.get_dummies(data, columns=['species'])\n",
    "print(new_data.head())"
   ]
  },
  {
   "cell_type": "code",
   "execution_count": null,
   "id": "8deeb0d5-4bad-4b77-80cb-7c171a1f0651",
   "metadata": {},
   "outputs": [],
   "source": [
    "new_data.tail()"
   ]
  }
 ],
 "metadata": {
  "kernelspec": {
   "display_name": "Python 3 (ipykernel)",
   "language": "python",
   "name": "python3"
  },
  "language_info": {
   "codemirror_mode": {
    "name": "ipython",
    "version": 3
   },
   "file_extension": ".py",
   "mimetype": "text/x-python",
   "name": "python",
   "nbconvert_exporter": "python",
   "pygments_lexer": "ipython3",
   "version": "3.12.2"
  }
 },
 "nbformat": 4,
 "nbformat_minor": 5
}
