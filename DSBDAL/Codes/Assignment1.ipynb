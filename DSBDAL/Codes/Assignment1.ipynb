{
 "cells": [
  {
   "cell_type": "markdown",
   "id": "519d2564-9d16-4ff6-9f09-e061355bb819",
   "metadata": {},
   "source": [
    "Import Libraries"
   ]
  },
  {
   "cell_type": "code",
   "execution_count": 2,
   "id": "5eefc6dd-edea-4c1f-a762-9e73097e65f2",
   "metadata": {},
   "outputs": [],
   "source": [
    "import pandas as pd        # for reading data"
   ]
  },
  {
   "cell_type": "markdown",
   "id": "a58f4cca-3fce-4b67-b936-e6002b93c9ad",
   "metadata": {},
   "source": [
    "Load Data"
   ]
  },
  {
   "cell_type": "code",
   "execution_count": 6,
   "id": "c3558bb7-0cfc-4a6b-8624-16aebb2af04e",
   "metadata": {},
   "outputs": [
    {
     "data": {
      "text/html": [
       "<div>\n",
       "<style scoped>\n",
       "    .dataframe tbody tr th:only-of-type {\n",
       "        vertical-align: middle;\n",
       "    }\n",
       "\n",
       "    .dataframe tbody tr th {\n",
       "        vertical-align: top;\n",
       "    }\n",
       "\n",
       "    .dataframe thead th {\n",
       "        text-align: right;\n",
       "    }\n",
       "</style>\n",
       "<table border=\"1\" class=\"dataframe\">\n",
       "  <thead>\n",
       "    <tr style=\"text-align: right;\">\n",
       "      <th></th>\n",
       "      <th>sepal_length</th>\n",
       "      <th>sepal_width</th>\n",
       "      <th>petal_length</th>\n",
       "      <th>petal_width</th>\n",
       "      <th>species</th>\n",
       "    </tr>\n",
       "  </thead>\n",
       "  <tbody>\n",
       "    <tr>\n",
       "      <th>0</th>\n",
       "      <td>5.1</td>\n",
       "      <td>3.5</td>\n",
       "      <td>1.4</td>\n",
       "      <td>0.2</td>\n",
       "      <td>Iris-setosa</td>\n",
       "    </tr>\n",
       "    <tr>\n",
       "      <th>1</th>\n",
       "      <td>4.9</td>\n",
       "      <td>3.0</td>\n",
       "      <td>1.4</td>\n",
       "      <td>0.2</td>\n",
       "      <td>Iris-setosa</td>\n",
       "    </tr>\n",
       "    <tr>\n",
       "      <th>2</th>\n",
       "      <td>4.7</td>\n",
       "      <td>3.2</td>\n",
       "      <td>1.3</td>\n",
       "      <td>0.2</td>\n",
       "      <td>Iris-setosa</td>\n",
       "    </tr>\n",
       "    <tr>\n",
       "      <th>3</th>\n",
       "      <td>4.6</td>\n",
       "      <td>3.1</td>\n",
       "      <td>1.5</td>\n",
       "      <td>0.2</td>\n",
       "      <td>Iris-setosa</td>\n",
       "    </tr>\n",
       "    <tr>\n",
       "      <th>4</th>\n",
       "      <td>5.0</td>\n",
       "      <td>3.6</td>\n",
       "      <td>1.4</td>\n",
       "      <td>0.2</td>\n",
       "      <td>Iris-setosa</td>\n",
       "    </tr>\n",
       "  </tbody>\n",
       "</table>\n",
       "</div>"
      ],
      "text/plain": [
       "   sepal_length  sepal_width  petal_length  petal_width      species\n",
       "0           5.1          3.5           1.4          0.2  Iris-setosa\n",
       "1           4.9          3.0           1.4          0.2  Iris-setosa\n",
       "2           4.7          3.2           1.3          0.2  Iris-setosa\n",
       "3           4.6          3.1           1.5          0.2  Iris-setosa\n",
       "4           5.0          3.6           1.4          0.2  Iris-setosa"
      ]
     },
     "execution_count": 6,
     "metadata": {},
     "output_type": "execute_result"
    }
   ],
   "source": [
    "data = pd.read_csv('../Datasets/Iris.csv') \n",
    "data.head()  # Shows the first 5 rows of the data"
   ]
  },
  {
   "cell_type": "markdown",
   "id": "6ab899a9-e97d-4a49-8232-0fb504811a1e",
   "metadata": {},
   "source": [
    "Data Preprocessing"
   ]
  },
  {
   "cell_type": "code",
   "execution_count": 8,
   "id": "88b53cdc-5801-4654-9c81-8f65e39bbd3b",
   "metadata": {
    "scrolled": true
   },
   "outputs": [
    {
     "name": "stdout",
     "output_type": "stream",
     "text": [
      "Shape of the dataset: (150, 5)\n"
     ]
    }
   ],
   "source": [
    "print(\"Shape of the dataset:\", data.shape)  # (rows, columns)"
   ]
  },
  {
   "cell_type": "code",
   "execution_count": 10,
   "id": "03faf36f-af3b-4a6b-bcf0-daa7ed033888",
   "metadata": {},
   "outputs": [
    {
     "name": "stdout",
     "output_type": "stream",
     "text": [
      "sepal_length    0\n",
      "sepal_width     0\n",
      "petal_length    0\n",
      "petal_width     0\n",
      "species         0\n",
      "dtype: int64\n"
     ]
    }
   ],
   "source": [
    "# Missing values\n",
    "print(data.isnull().sum())"
   ]
  },
  {
   "cell_type": "markdown",
   "id": "7ddb4d20-b2a4-4343-be8d-b631af6cf04d",
   "metadata": {},
   "source": [
    "Randomly insert missing values into the dataset"
   ]
  },
  {
   "cell_type": "code",
   "execution_count": 13,
   "id": "71c8ffd3-1b0c-49f4-b640-a9df45928eff",
   "metadata": {},
   "outputs": [],
   "source": [
    "import numpy as np\n",
    "\n",
    "# Set a random seed for reproducibility\n",
    "np.random.seed(42)\n",
    "\n",
    "# Let's introduce NaNs in 5% of the rows in 'column_name'\n",
    "# Replace 'column_name' with actual column names in your dataset\n",
    "\n",
    "cols_to_modify = ['sepal_length', 'sepal_width']  # Example columns; update with your own\n",
    "for col in cols_to_modify:\n",
    "    data.loc[data.sample(frac=0.05).index, col] = np.nan  # 5% of the data becomes NaN\n"
   ]
  },
  {
   "cell_type": "code",
   "execution_count": 14,
   "id": "00142228-631f-4f50-aa7c-3ef943b3fb4a",
   "metadata": {},
   "outputs": [
    {
     "name": "stdout",
     "output_type": "stream",
     "text": [
      "sepal_length    8\n",
      "sepal_width     8\n",
      "petal_length    0\n",
      "petal_width     0\n",
      "species         0\n",
      "dtype: int64\n"
     ]
    }
   ],
   "source": [
    "# Missing values\n",
    "print(data.isnull().sum())"
   ]
  },
  {
   "cell_type": "code",
   "execution_count": 15,
   "id": "2a739284-d312-471e-8824-b2fe089c3f05",
   "metadata": {},
   "outputs": [],
   "source": [
    "# Fill missing values with mean\n",
    "data['sepal_length'] = data['sepal_length'].fillna(data['sepal_length'].mean()) "
   ]
  },
  {
   "cell_type": "code",
   "execution_count": 17,
   "id": "3da09392-f63c-4a71-94a0-d5d2b98bc7b1",
   "metadata": {},
   "outputs": [],
   "source": [
    "# Fill missing values with mean\n",
    "data['sepal_width'] = data['sepal_width'].fillna(data['sepal_width'].mean()) "
   ]
  },
  {
   "cell_type": "code",
   "execution_count": 18,
   "id": "48a75800-9970-47dc-8b61-2f1267ee87b7",
   "metadata": {},
   "outputs": [
    {
     "name": "stdout",
     "output_type": "stream",
     "text": [
      "sepal_length    0\n",
      "sepal_width     0\n",
      "petal_length    0\n",
      "petal_width     0\n",
      "species         0\n",
      "dtype: int64\n"
     ]
    }
   ],
   "source": [
    "# Missing values\n",
    "print(data.isnull().sum())"
   ]
  },
  {
   "cell_type": "markdown",
   "id": "30efa2c8-de2d-46d0-9bd3-6a3b8342a93b",
   "metadata": {},
   "source": [
    "Basic descriptive statistics"
   ]
  },
  {
   "cell_type": "code",
   "execution_count": 21,
   "id": "2484e0f5-d1aa-4f24-8f8a-06094018641a",
   "metadata": {},
   "outputs": [
    {
     "data": {
      "text/html": [
       "<div>\n",
       "<style scoped>\n",
       "    .dataframe tbody tr th:only-of-type {\n",
       "        vertical-align: middle;\n",
       "    }\n",
       "\n",
       "    .dataframe tbody tr th {\n",
       "        vertical-align: top;\n",
       "    }\n",
       "\n",
       "    .dataframe thead th {\n",
       "        text-align: right;\n",
       "    }\n",
       "</style>\n",
       "<table border=\"1\" class=\"dataframe\">\n",
       "  <thead>\n",
       "    <tr style=\"text-align: right;\">\n",
       "      <th></th>\n",
       "      <th>sepal_length</th>\n",
       "      <th>sepal_width</th>\n",
       "      <th>petal_length</th>\n",
       "      <th>petal_width</th>\n",
       "    </tr>\n",
       "  </thead>\n",
       "  <tbody>\n",
       "    <tr>\n",
       "      <th>count</th>\n",
       "      <td>150.000000</td>\n",
       "      <td>150.000000</td>\n",
       "      <td>150.000000</td>\n",
       "      <td>150.000000</td>\n",
       "    </tr>\n",
       "    <tr>\n",
       "      <th>mean</th>\n",
       "      <td>5.819014</td>\n",
       "      <td>3.046479</td>\n",
       "      <td>3.758667</td>\n",
       "      <td>1.198667</td>\n",
       "    </tr>\n",
       "    <tr>\n",
       "      <th>std</th>\n",
       "      <td>0.803677</td>\n",
       "      <td>0.427049</td>\n",
       "      <td>1.764420</td>\n",
       "      <td>0.763161</td>\n",
       "    </tr>\n",
       "    <tr>\n",
       "      <th>min</th>\n",
       "      <td>4.300000</td>\n",
       "      <td>2.000000</td>\n",
       "      <td>1.000000</td>\n",
       "      <td>0.100000</td>\n",
       "    </tr>\n",
       "    <tr>\n",
       "      <th>25%</th>\n",
       "      <td>5.100000</td>\n",
       "      <td>2.800000</td>\n",
       "      <td>1.600000</td>\n",
       "      <td>0.300000</td>\n",
       "    </tr>\n",
       "    <tr>\n",
       "      <th>50%</th>\n",
       "      <td>5.800000</td>\n",
       "      <td>3.000000</td>\n",
       "      <td>4.350000</td>\n",
       "      <td>1.300000</td>\n",
       "    </tr>\n",
       "    <tr>\n",
       "      <th>75%</th>\n",
       "      <td>6.400000</td>\n",
       "      <td>3.300000</td>\n",
       "      <td>5.100000</td>\n",
       "      <td>1.800000</td>\n",
       "    </tr>\n",
       "    <tr>\n",
       "      <th>max</th>\n",
       "      <td>7.900000</td>\n",
       "      <td>4.400000</td>\n",
       "      <td>6.900000</td>\n",
       "      <td>2.500000</td>\n",
       "    </tr>\n",
       "  </tbody>\n",
       "</table>\n",
       "</div>"
      ],
      "text/plain": [
       "       sepal_length  sepal_width  petal_length  petal_width\n",
       "count    150.000000   150.000000    150.000000   150.000000\n",
       "mean       5.819014     3.046479      3.758667     1.198667\n",
       "std        0.803677     0.427049      1.764420     0.763161\n",
       "min        4.300000     2.000000      1.000000     0.100000\n",
       "25%        5.100000     2.800000      1.600000     0.300000\n",
       "50%        5.800000     3.000000      4.350000     1.300000\n",
       "75%        6.400000     3.300000      5.100000     1.800000\n",
       "max        7.900000     4.400000      6.900000     2.500000"
      ]
     },
     "execution_count": 21,
     "metadata": {},
     "output_type": "execute_result"
    }
   ],
   "source": [
    "data.describe()"
   ]
  },
  {
   "cell_type": "code",
   "execution_count": 22,
   "id": "23cca7eb-78b5-414e-be63-460c44ff5264",
   "metadata": {},
   "outputs": [
    {
     "data": {
      "text/plain": [
       "sepal_length    float64\n",
       "sepal_width     float64\n",
       "petal_length    float64\n",
       "petal_width     float64\n",
       "species          object\n",
       "dtype: object"
      ]
     },
     "execution_count": 22,
     "metadata": {},
     "output_type": "execute_result"
    }
   ],
   "source": [
    "# Check data types\n",
    "data.dtypes "
   ]
  },
  {
   "cell_type": "markdown",
   "id": "e731ccaf-34de-43c1-804e-e6eb04ba5498",
   "metadata": {},
   "source": [
    "Variable Description"
   ]
  },
  {
   "cell_type": "code",
   "execution_count": 23,
   "id": "332ac5e8-5f84-40af-97dc-d7eba72e8d62",
   "metadata": {},
   "outputs": [],
   "source": [
    "#  Iris dataset\n",
    "variable_descriptions = {\n",
    "    'sepal_length': 'Length of the sepal (cm)',\n",
    "    'sepal_width': 'Width of the sepal (cm)',\n",
    "    'petal_length': 'Length of the petal (cm)',\n",
    "    'petal_width': 'Width of the petal (cm)',\n",
    "    'species': 'Type of Iris plant'\n",
    "}"
   ]
  },
  {
   "cell_type": "code",
   "execution_count": 26,
   "id": "adb11efe-423f-436c-a306-fdb52cab45b9",
   "metadata": {},
   "outputs": [
    {
     "data": {
      "text/plain": [
       "(150, 5)"
      ]
     },
     "execution_count": 26,
     "metadata": {},
     "output_type": "execute_result"
    }
   ],
   "source": [
    "data.shape"
   ]
  },
  {
   "cell_type": "code",
   "execution_count": 27,
   "id": "c8537311-9a3d-4592-9654-2da9922905ab",
   "metadata": {},
   "outputs": [
    {
     "data": {
      "text/plain": [
       "float64    4\n",
       "object     1\n",
       "Name: count, dtype: int64"
      ]
     },
     "execution_count": 27,
     "metadata": {},
     "output_type": "execute_result"
    }
   ],
   "source": [
    "data.dtypes.value_counts()"
   ]
  },
  {
   "cell_type": "code",
   "execution_count": 29,
   "id": "bd7cebba-bc66-4359-9c2d-07e2a0b21315",
   "metadata": {},
   "outputs": [],
   "source": [
    "# Convert Object (species) column to String \n",
    "data['species'] = data['species'].astype('string')"
   ]
  },
  {
   "cell_type": "code",
   "execution_count": 30,
   "id": "b1d984c2-9765-4904-8623-643a7eb3e9b1",
   "metadata": {},
   "outputs": [
    {
     "data": {
      "text/plain": [
       "float64           4\n",
       "string[python]    1\n",
       "Name: count, dtype: int64"
      ]
     },
     "execution_count": 30,
     "metadata": {},
     "output_type": "execute_result"
    }
   ],
   "source": [
    "data.dtypes.value_counts()"
   ]
  },
  {
   "cell_type": "markdown",
   "id": "e89875be-d804-45da-bdd0-045e1c14eec2",
   "metadata": {},
   "source": [
    "Turn categorical variables into quantitative variables"
   ]
  },
  {
   "cell_type": "code",
   "execution_count": null,
   "id": "3e5de839-0eb4-4e80-948e-3198f15b8eae",
   "metadata": {},
   "outputs": [],
   "source": []
  }
 ],
 "metadata": {
  "kernelspec": {
   "display_name": "Python 3 (ipykernel)",
   "language": "python",
   "name": "python3"
  },
  "language_info": {
   "codemirror_mode": {
    "name": "ipython",
    "version": 3
   },
   "file_extension": ".py",
   "mimetype": "text/x-python",
   "name": "python",
   "nbconvert_exporter": "python",
   "pygments_lexer": "ipython3",
   "version": "3.12.2"
  }
 },
 "nbformat": 4,
 "nbformat_minor": 5
}
