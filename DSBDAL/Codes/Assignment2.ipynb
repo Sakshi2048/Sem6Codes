{
 "cells": [
  {
   "cell_type": "code",
   "execution_count": 23,
   "id": "9904c389-fb08-4fcb-8374-c0481c59696a",
   "metadata": {},
   "outputs": [],
   "source": [
    "import pandas as pd"
   ]
  },
  {
   "cell_type": "code",
   "execution_count": 24,
   "id": "771d0983-51c8-408b-b9eb-36d90899d35c",
   "metadata": {},
   "outputs": [
    {
     "data": {
      "text/html": [
       "<div>\n",
       "<style scoped>\n",
       "    .dataframe tbody tr th:only-of-type {\n",
       "        vertical-align: middle;\n",
       "    }\n",
       "\n",
       "    .dataframe tbody tr th {\n",
       "        vertical-align: top;\n",
       "    }\n",
       "\n",
       "    .dataframe thead th {\n",
       "        text-align: right;\n",
       "    }\n",
       "</style>\n",
       "<table border=\"1\" class=\"dataframe\">\n",
       "  <thead>\n",
       "    <tr style=\"text-align: right;\">\n",
       "      <th></th>\n",
       "      <th>roll_no</th>\n",
       "      <th>gender</th>\n",
       "      <th>race_ethnicity</th>\n",
       "      <th>parental_level_of_education</th>\n",
       "      <th>lunch</th>\n",
       "      <th>test_preparation_course</th>\n",
       "      <th>math_score</th>\n",
       "      <th>reading_score</th>\n",
       "      <th>writing_score</th>\n",
       "      <th>science_score</th>\n",
       "      <th>total_score</th>\n",
       "      <th>grade</th>\n",
       "    </tr>\n",
       "  </thead>\n",
       "  <tbody>\n",
       "    <tr>\n",
       "      <th>0</th>\n",
       "      <td>std-01</td>\n",
       "      <td>male</td>\n",
       "      <td>group D</td>\n",
       "      <td>some college</td>\n",
       "      <td>1.0</td>\n",
       "      <td>1.0</td>\n",
       "      <td>89</td>\n",
       "      <td>38.0</td>\n",
       "      <td>85.0</td>\n",
       "      <td>26.0</td>\n",
       "      <td>238.0</td>\n",
       "      <td>C</td>\n",
       "    </tr>\n",
       "    <tr>\n",
       "      <th>1</th>\n",
       "      <td>std-02</td>\n",
       "      <td>male</td>\n",
       "      <td>group B</td>\n",
       "      <td>high school</td>\n",
       "      <td>1.0</td>\n",
       "      <td>0.0</td>\n",
       "      <td>65</td>\n",
       "      <td>100.0</td>\n",
       "      <td>67.0</td>\n",
       "      <td>96.0</td>\n",
       "      <td>328.0</td>\n",
       "      <td>A</td>\n",
       "    </tr>\n",
       "    <tr>\n",
       "      <th>2</th>\n",
       "      <td>std-03</td>\n",
       "      <td>male</td>\n",
       "      <td>group C</td>\n",
       "      <td>master's degree</td>\n",
       "      <td>1.0</td>\n",
       "      <td>0.0</td>\n",
       "      <td>10</td>\n",
       "      <td>99.0</td>\n",
       "      <td>97.0</td>\n",
       "      <td>58.0</td>\n",
       "      <td>264.0</td>\n",
       "      <td>B</td>\n",
       "    </tr>\n",
       "    <tr>\n",
       "      <th>3</th>\n",
       "      <td>std-04</td>\n",
       "      <td>male</td>\n",
       "      <td>group D</td>\n",
       "      <td>some college</td>\n",
       "      <td>1.0</td>\n",
       "      <td>1.0</td>\n",
       "      <td>22</td>\n",
       "      <td>51.0</td>\n",
       "      <td>41.0</td>\n",
       "      <td>84.0</td>\n",
       "      <td>198.0</td>\n",
       "      <td>D</td>\n",
       "    </tr>\n",
       "    <tr>\n",
       "      <th>4</th>\n",
       "      <td>std-05</td>\n",
       "      <td>male</td>\n",
       "      <td>group C</td>\n",
       "      <td>some college</td>\n",
       "      <td>0.0</td>\n",
       "      <td>1.0</td>\n",
       "      <td>26</td>\n",
       "      <td>58.0</td>\n",
       "      <td>64.0</td>\n",
       "      <td>65.0</td>\n",
       "      <td>213.0</td>\n",
       "      <td>C</td>\n",
       "    </tr>\n",
       "  </tbody>\n",
       "</table>\n",
       "</div>"
      ],
      "text/plain": [
       "  roll_no gender race_ethnicity parental_level_of_education  lunch  \\\n",
       "0  std-01   male        group D                some college    1.0   \n",
       "1  std-02   male        group B                 high school    1.0   \n",
       "2  std-03   male        group C             master's degree    1.0   \n",
       "3  std-04   male        group D                some college    1.0   \n",
       "4  std-05   male        group C                some college    0.0   \n",
       "\n",
       "   test_preparation_course math_score  reading_score  writing_score  \\\n",
       "0                      1.0         89           38.0           85.0   \n",
       "1                      0.0         65          100.0           67.0   \n",
       "2                      0.0         10           99.0           97.0   \n",
       "3                      1.0         22           51.0           41.0   \n",
       "4                      1.0         26           58.0           64.0   \n",
       "\n",
       "   science_score  total_score grade  \n",
       "0           26.0        238.0     C  \n",
       "1           96.0        328.0     A  \n",
       "2           58.0        264.0     B  \n",
       "3           84.0        198.0     D  \n",
       "4           65.0        213.0     C  "
      ]
     },
     "execution_count": 24,
     "metadata": {},
     "output_type": "execute_result"
    }
   ],
   "source": [
    "# Load Data\n",
    "data = pd.read_csv('../Datasets/Student_Performance.csv') \n",
    "data.head()  # Shows the first 5 rows of the data"
   ]
  },
  {
   "cell_type": "code",
   "execution_count": 25,
   "id": "b10cc996-7b7c-4016-a741-809a78bbb365",
   "metadata": {},
   "outputs": [
    {
     "data": {
      "text/plain": [
       "(10000, 12)"
      ]
     },
     "execution_count": 25,
     "metadata": {},
     "output_type": "execute_result"
    }
   ],
   "source": [
    "data.shape"
   ]
  },
  {
   "cell_type": "code",
   "execution_count": 26,
   "id": "f536af96-68e4-4b55-8b8f-b9d17cc6b018",
   "metadata": {},
   "outputs": [
    {
     "data": {
      "text/plain": [
       "roll_no                         object\n",
       "gender                          object\n",
       "race_ethnicity                  object\n",
       "parental_level_of_education     object\n",
       "lunch                          float64\n",
       "test_preparation_course        float64\n",
       "math_score                      object\n",
       "reading_score                  float64\n",
       "writing_score                  float64\n",
       "science_score                  float64\n",
       "total_score                    float64\n",
       "grade                           object\n",
       "dtype: object"
      ]
     },
     "execution_count": 26,
     "metadata": {},
     "output_type": "execute_result"
    }
   ],
   "source": [
    "data.dtypes"
   ]
  },
  {
   "cell_type": "code",
   "execution_count": 27,
   "id": "7c9c7521-5bf4-43a2-8a91-f5f1a8a01159",
   "metadata": {},
   "outputs": [
    {
     "data": {
      "text/plain": [
       "Index(['roll_no', 'gender', 'race_ethnicity', 'parental_level_of_education',\n",
       "       'lunch', 'test_preparation_course', 'math_score', 'reading_score',\n",
       "       'writing_score', 'science_score', 'total_score', 'grade'],\n",
       "      dtype='object')"
      ]
     },
     "execution_count": 27,
     "metadata": {},
     "output_type": "execute_result"
    }
   ],
   "source": [
    "data.columns"
   ]
  },
  {
   "cell_type": "code",
   "execution_count": 28,
   "id": "fcea6241-68ce-42d9-bf5e-fd49e4120169",
   "metadata": {},
   "outputs": [
    {
     "name": "stdout",
     "output_type": "stream",
     "text": [
      "<class 'pandas.core.frame.DataFrame'>\n",
      "RangeIndex: 10000 entries, 0 to 9999\n",
      "Data columns (total 12 columns):\n",
      " #   Column                       Non-Null Count  Dtype  \n",
      "---  ------                       --------------  -----  \n",
      " 0   roll_no                      9999 non-null   object \n",
      " 1   gender                       9982 non-null   object \n",
      " 2   race_ethnicity               9977 non-null   object \n",
      " 3   parental_level_of_education  9978 non-null   object \n",
      " 4   lunch                        9976 non-null   float64\n",
      " 5   test_preparation_course      9977 non-null   float64\n",
      " 6   math_score                   9976 non-null   object \n",
      " 7   reading_score                9975 non-null   float64\n",
      " 8   writing_score                9976 non-null   float64\n",
      " 9   science_score                9977 non-null   float64\n",
      " 10  total_score                  9981 non-null   float64\n",
      " 11  grade                        9997 non-null   object \n",
      "dtypes: float64(6), object(6)\n",
      "memory usage: 937.6+ KB\n"
     ]
    }
   ],
   "source": [
    "data.info()"
   ]
  },
  {
   "cell_type": "code",
   "execution_count": 29,
   "id": "9eaf8a14-d551-44de-afff-37b9094eefe6",
   "metadata": {},
   "outputs": [
    {
     "data": {
      "text/html": [
       "<div>\n",
       "<style scoped>\n",
       "    .dataframe tbody tr th:only-of-type {\n",
       "        vertical-align: middle;\n",
       "    }\n",
       "\n",
       "    .dataframe tbody tr th {\n",
       "        vertical-align: top;\n",
       "    }\n",
       "\n",
       "    .dataframe thead th {\n",
       "        text-align: right;\n",
       "    }\n",
       "</style>\n",
       "<table border=\"1\" class=\"dataframe\">\n",
       "  <thead>\n",
       "    <tr style=\"text-align: right;\">\n",
       "      <th></th>\n",
       "      <th>lunch</th>\n",
       "      <th>test_preparation_course</th>\n",
       "      <th>reading_score</th>\n",
       "      <th>writing_score</th>\n",
       "      <th>science_score</th>\n",
       "      <th>total_score</th>\n",
       "    </tr>\n",
       "  </thead>\n",
       "  <tbody>\n",
       "    <tr>\n",
       "      <th>count</th>\n",
       "      <td>9976.000000</td>\n",
       "      <td>9977.000000</td>\n",
       "      <td>9975.000000</td>\n",
       "      <td>9976.000000</td>\n",
       "      <td>9977.000000</td>\n",
       "      <td>9981.000000</td>\n",
       "    </tr>\n",
       "    <tr>\n",
       "      <th>mean</th>\n",
       "      <td>0.644246</td>\n",
       "      <td>0.388694</td>\n",
       "      <td>70.125915</td>\n",
       "      <td>71.415798</td>\n",
       "      <td>66.063045</td>\n",
       "      <td>264.740908</td>\n",
       "    </tr>\n",
       "    <tr>\n",
       "      <th>std</th>\n",
       "      <td>0.478765</td>\n",
       "      <td>0.487478</td>\n",
       "      <td>19.026245</td>\n",
       "      <td>18.245360</td>\n",
       "      <td>19.324331</td>\n",
       "      <td>42.304858</td>\n",
       "    </tr>\n",
       "    <tr>\n",
       "      <th>min</th>\n",
       "      <td>0.000000</td>\n",
       "      <td>0.000000</td>\n",
       "      <td>17.000000</td>\n",
       "      <td>10.000000</td>\n",
       "      <td>9.000000</td>\n",
       "      <td>89.000000</td>\n",
       "    </tr>\n",
       "    <tr>\n",
       "      <th>25%</th>\n",
       "      <td>0.000000</td>\n",
       "      <td>0.000000</td>\n",
       "      <td>57.000000</td>\n",
       "      <td>59.000000</td>\n",
       "      <td>53.000000</td>\n",
       "      <td>237.000000</td>\n",
       "    </tr>\n",
       "    <tr>\n",
       "      <th>50%</th>\n",
       "      <td>1.000000</td>\n",
       "      <td>0.000000</td>\n",
       "      <td>71.000000</td>\n",
       "      <td>72.500000</td>\n",
       "      <td>67.000000</td>\n",
       "      <td>268.000000</td>\n",
       "    </tr>\n",
       "    <tr>\n",
       "      <th>75%</th>\n",
       "      <td>1.000000</td>\n",
       "      <td>1.000000</td>\n",
       "      <td>85.000000</td>\n",
       "      <td>85.000000</td>\n",
       "      <td>81.000000</td>\n",
       "      <td>294.000000</td>\n",
       "    </tr>\n",
       "    <tr>\n",
       "      <th>max</th>\n",
       "      <td>1.000000</td>\n",
       "      <td>1.000000</td>\n",
       "      <td>100.000000</td>\n",
       "      <td>100.000000</td>\n",
       "      <td>100.000000</td>\n",
       "      <td>383.000000</td>\n",
       "    </tr>\n",
       "  </tbody>\n",
       "</table>\n",
       "</div>"
      ],
      "text/plain": [
       "             lunch  test_preparation_course  reading_score  writing_score  \\\n",
       "count  9976.000000              9977.000000    9975.000000    9976.000000   \n",
       "mean      0.644246                 0.388694      70.125915      71.415798   \n",
       "std       0.478765                 0.487478      19.026245      18.245360   \n",
       "min       0.000000                 0.000000      17.000000      10.000000   \n",
       "25%       0.000000                 0.000000      57.000000      59.000000   \n",
       "50%       1.000000                 0.000000      71.000000      72.500000   \n",
       "75%       1.000000                 1.000000      85.000000      85.000000   \n",
       "max       1.000000                 1.000000     100.000000     100.000000   \n",
       "\n",
       "       science_score  total_score  \n",
       "count    9977.000000  9981.000000  \n",
       "mean       66.063045   264.740908  \n",
       "std        19.324331    42.304858  \n",
       "min         9.000000    89.000000  \n",
       "25%        53.000000   237.000000  \n",
       "50%        67.000000   268.000000  \n",
       "75%        81.000000   294.000000  \n",
       "max       100.000000   383.000000  "
      ]
     },
     "execution_count": 29,
     "metadata": {},
     "output_type": "execute_result"
    }
   ],
   "source": [
    "data.describe()"
   ]
  },
  {
   "cell_type": "code",
   "execution_count": 30,
   "id": "b1b5578a-822b-48ef-9fac-78be66c37944",
   "metadata": {},
   "outputs": [
    {
     "name": "stdout",
     "output_type": "stream",
     "text": [
      "roll_no                         1\n",
      "gender                         18\n",
      "race_ethnicity                 23\n",
      "parental_level_of_education    22\n",
      "lunch                          24\n",
      "test_preparation_course        23\n",
      "math_score                     24\n",
      "reading_score                  25\n",
      "writing_score                  24\n",
      "science_score                  23\n",
      "total_score                    19\n",
      "grade                           3\n",
      "dtype: int64\n"
     ]
    }
   ],
   "source": [
    "# Missing values\n",
    "print(data.isnull().sum())"
   ]
  },
  {
   "cell_type": "markdown",
   "id": "d7cb3155-dd27-4a34-981e-1f74f15069cb",
   "metadata": {},
   "source": [
    "Replace missing values with mean"
   ]
  },
  {
   "cell_type": "code",
   "execution_count": 31,
   "id": "748b6571-c177-4a17-8c4b-bf9495ea2222",
   "metadata": {},
   "outputs": [],
   "source": [
    "# Convert math score (object) to float64\n",
    "data['math_score'] = pd.to_numeric(data['math_score'], errors='coerce')\n",
    "\n",
    "# Fill missing values with mean\n",
    "data['math_score'] = data['math_score'].fillna(data['math_score'].mean())"
   ]
  },
  {
   "cell_type": "code",
   "execution_count": 32,
   "id": "b8e564b4-eb1a-45f0-8a18-a355a13260f4",
   "metadata": {},
   "outputs": [
    {
     "data": {
      "text/plain": [
       "roll_no                         object\n",
       "gender                          object\n",
       "race_ethnicity                  object\n",
       "parental_level_of_education     object\n",
       "lunch                          float64\n",
       "test_preparation_course        float64\n",
       "math_score                     float64\n",
       "reading_score                  float64\n",
       "writing_score                  float64\n",
       "science_score                  float64\n",
       "total_score                    float64\n",
       "grade                           object\n",
       "dtype: object"
      ]
     },
     "execution_count": 32,
     "metadata": {},
     "output_type": "execute_result"
    }
   ],
   "source": [
    "data.dtypes"
   ]
  },
  {
   "cell_type": "code",
   "execution_count": 33,
   "id": "9a7e8d29-f513-40d9-aead-008bba44e2c0",
   "metadata": {},
   "outputs": [
    {
     "data": {
      "text/plain": [
       "roll_no                         1\n",
       "gender                         18\n",
       "race_ethnicity                 23\n",
       "parental_level_of_education    22\n",
       "lunch                          24\n",
       "test_preparation_course        23\n",
       "math_score                      0\n",
       "reading_score                  25\n",
       "writing_score                  24\n",
       "science_score                  23\n",
       "total_score                    19\n",
       "grade                           3\n",
       "dtype: int64"
      ]
     },
     "execution_count": 33,
     "metadata": {},
     "output_type": "execute_result"
    }
   ],
   "source": [
    "data.isnull().sum()"
   ]
  },
  {
   "cell_type": "markdown",
   "id": "54faf08e-d9be-418f-8497-a2c97513906e",
   "metadata": {},
   "source": [
    "Values - \n",
    "\n",
    "Categorical (object): roll_no, gender, race_ethnicity, parental_level_of_education, grade\n",
    "\n",
    "Numerical (float64): Scores and test-related columns"
   ]
  },
  {
   "cell_type": "code",
   "execution_count": 34,
   "id": "93f86fe8-e857-4bff-b974-f357486f7141",
   "metadata": {},
   "outputs": [],
   "source": [
    "# Fix missing values for numerical columns using mean\n",
    "numerical_cols = ['math_score', 'reading_score', 'writing_score', 'science_score', 'total_score', 'test_preparation_course', 'lunch']\n",
    "for col in numerical_cols:\n",
    "    data[col] = pd.to_numeric(data[col], errors='coerce') \n",
    "    data[col] = data[col].fillna(data[col].mean())\n"
   ]
  },
  {
   "cell_type": "code",
   "execution_count": 35,
   "id": "4ae5f32a-d272-472f-b4e2-360529fce8e2",
   "metadata": {},
   "outputs": [
    {
     "data": {
      "text/plain": [
       "'female'"
      ]
     },
     "execution_count": 35,
     "metadata": {},
     "output_type": "execute_result"
    }
   ],
   "source": [
    "data['gender'].mode()[0]"
   ]
  },
  {
   "cell_type": "code",
   "execution_count": 36,
   "id": "33e5b269-0432-4ec0-9dfb-825e076f3580",
   "metadata": {},
   "outputs": [
    {
     "data": {
      "text/plain": [
       "'group C'"
      ]
     },
     "execution_count": 36,
     "metadata": {},
     "output_type": "execute_result"
    }
   ],
   "source": [
    "data['race_ethnicity'].mode()[0]"
   ]
  },
  {
   "cell_type": "code",
   "execution_count": 37,
   "id": "4f958318-d7b0-43bd-a439-7d16a33ebf8d",
   "metadata": {},
   "outputs": [],
   "source": [
    "# Fix missing values for categorical columns using mode\n",
    "categorical_cols = ['gender', 'race_ethnicity', 'parental_level_of_education', 'grade']\n",
    "for col in categorical_cols:\n",
    "    data[col] = data[col].fillna(data[col].mode()[0])"
   ]
  },
  {
   "cell_type": "code",
   "execution_count": 38,
   "id": "c73f82ab-c036-4f27-9ea5-c3ef328d8cf2",
   "metadata": {},
   "outputs": [],
   "source": [
    "# Drop row with missing roll_no\n",
    "data.dropna(subset=['roll_no'], inplace=True)"
   ]
  },
  {
   "cell_type": "code",
   "execution_count": 39,
   "id": "6f1e467a-c144-426e-8d2d-b274a7c1f266",
   "metadata": {},
   "outputs": [
    {
     "name": "stdout",
     "output_type": "stream",
     "text": [
      "roll_no                        0\n",
      "gender                         0\n",
      "race_ethnicity                 0\n",
      "parental_level_of_education    0\n",
      "lunch                          0\n",
      "test_preparation_course        0\n",
      "math_score                     0\n",
      "reading_score                  0\n",
      "writing_score                  0\n",
      "science_score                  0\n",
      "total_score                    0\n",
      "grade                          0\n",
      "dtype: int64\n",
      "roll_no                         object\n",
      "gender                          object\n",
      "race_ethnicity                  object\n",
      "parental_level_of_education     object\n",
      "lunch                          float64\n",
      "test_preparation_course        float64\n",
      "math_score                     float64\n",
      "reading_score                  float64\n",
      "writing_score                  float64\n",
      "science_score                  float64\n",
      "total_score                    float64\n",
      "grade                           object\n",
      "dtype: object\n"
     ]
    }
   ],
   "source": [
    "print(data.isnull().sum())  # Should all be zero now\n",
    "print(data.dtypes)          # Check final types"
   ]
  },
  {
   "cell_type": "code",
   "execution_count": 40,
   "id": "a21ba46b-deec-4a75-9a2b-9261543aad05",
   "metadata": {},
   "outputs": [
    {
     "name": "stdout",
     "output_type": "stream",
     "text": [
      "\n",
      "\n",
      "The features in the dataset are as follows : \n",
      "1. math score :  float64\n",
      "2. reading score :  float64\n",
      "3. writing score :  float64\n"
     ]
    }
   ],
   "source": [
    "print(\"\\n\\nThe features in the dataset are as follows : \")\n",
    "print(\"1. math score : \", data['math_score'].dtype)\n",
    "print(\"2. reading score : \", data['reading_score'].dtype)\n",
    "print(\"3. writing score : \", data['writing_score'].dtype)"
   ]
  },
  {
   "cell_type": "markdown",
   "id": "7cde6643-3f04-4a7b-a451-d0c8a5c55e81",
   "metadata": {},
   "source": [
    "Outliers\n",
    "\n",
    "In data science, an outlier is a value in a dataset that is much larger or smaller than the other values.\n",
    "\n",
    "Finding Outliers: \n",
    "\n",
    "There are 2 ways to find outliers. \n",
    "\n",
    "1. Z Score\n",
    "2. IQR Technique"
   ]
  },
  {
   "cell_type": "markdown",
   "id": "5424c9e6-ccfe-431f-8cc2-7586155da8a3",
   "metadata": {},
   "source": [
    "Z - Score"
   ]
  },
  {
   "cell_type": "code",
   "execution_count": 53,
   "id": "bd355b6d-f3fa-4b11-955f-e2718b85e194",
   "metadata": {},
   "outputs": [
    {
     "name": "stdout",
     "output_type": "stream",
     "text": [
      "57.18076494366229\n",
      "21.720208577980546\n"
     ]
    }
   ],
   "source": [
    "mean = data['math_score'].mean()\n",
    "std = data['math_score'].std()\n",
    "\n",
    "print(mean)\n",
    "print(std)"
   ]
  },
  {
   "cell_type": "code",
   "execution_count": 50,
   "id": "d5aca6db-e588-47bf-ba35-88045697df08",
   "metadata": {},
   "outputs": [],
   "source": [
    "outliers = []\n",
    "\n",
    "def detect_outliers_zs(data):\n",
    "    threshold = 3\n",
    "    mean = np.mean(data)\n",
    "    std = np.std(data)\n",
    "\n",
    "    for i in data:\n",
    "        z_score = (i-mean)/std\n",
    "        if np.abs(z_score)>threshold:\n",
    "            outliers.append(i)\n",
    "    return outliers\n",
    "    "
   ]
  },
  {
   "cell_type": "code",
   "execution_count": 51,
   "id": "e3b9d64c-d6d0-48d9-b398-52099a0554c7",
   "metadata": {},
   "outputs": [
    {
     "name": "stdout",
     "output_type": "stream",
     "text": [
      "Total Math Outliers = 40\n",
      "Math Outliers: [10.0, 16.0, 10.0, 15.0, 16.0, 10.0, 10.0, 10.0, 16.0, 11.0, 10.0, 10.0, 12.0, 10.0, 10.0, 10.0, 10.0, 10.0, 10.0, 10.0, 10.0, 10.0, 10.0, 16.0, 16.0, 10.0, 10.0, 13.0, 11.0, 10.0, 10.0, 14.0, 10.0, 10.0, 11.0, 13.0, 10.0, 15.0, 15.0, 15.0]\n",
      "\n",
      "Total Reading Outliers = 40\n",
      "Reading Outliers: [10.0, 16.0, 10.0, 15.0, 16.0, 10.0, 10.0, 10.0, 16.0, 11.0, 10.0, 10.0, 12.0, 10.0, 10.0, 10.0, 10.0, 10.0, 10.0, 10.0, 10.0, 10.0, 10.0, 16.0, 16.0, 10.0, 10.0, 13.0, 11.0, 10.0, 10.0, 14.0, 10.0, 10.0, 11.0, 13.0, 10.0, 15.0, 15.0, 15.0]\n",
      "\n",
      "Total Writing Outliers = 40\n",
      "Writing Outliers: [10.0, 16.0, 10.0, 15.0, 16.0, 10.0, 10.0, 10.0, 16.0, 11.0, 10.0, 10.0, 12.0, 10.0, 10.0, 10.0, 10.0, 10.0, 10.0, 10.0, 10.0, 10.0, 10.0, 16.0, 16.0, 10.0, 10.0, 13.0, 11.0, 10.0, 10.0, 14.0, 10.0, 10.0, 11.0, 13.0, 10.0, 15.0, 15.0, 15.0]\n",
      "\n"
     ]
    }
   ],
   "source": [
    "import numpy as np\n",
    "outliers_math = detect_outliers_zs(data['math_score'])\n",
    "outliers_reading = detect_outliers_zs(data['reading_score'])\n",
    "outliers_writing = detect_outliers_zs(data['writing_score'])\n",
    "\n",
    "# Math\n",
    "print(\"Total Math Outliers =\", len(outliers_math))\n",
    "print(\"Math Outliers:\", outliers_math)\n",
    "print()\n",
    "\n",
    "# Reading\n",
    "print(\"Total Reading Outliers =\", len(outliers_reading))\n",
    "print(\"Reading Outliers:\", outliers_reading)\n",
    "print()\n",
    "\n",
    "# Writing\n",
    "print(\"Total Writing Outliers =\", len(outliers_writing))\n",
    "print(\"Writing Outliers:\", outliers_writing)\n",
    "print()\n"
   ]
  },
  {
   "cell_type": "markdown",
   "id": "e7f5bb87-2419-49e0-b5d1-bc091ad36fde",
   "metadata": {},
   "source": [
    "IQR to find Outliers"
   ]
  },
  {
   "cell_type": "code",
   "execution_count": null,
   "id": "df0e6534-49d9-4b43-847d-fc83940ffd45",
   "metadata": {},
   "outputs": [],
   "source": [
    "outliers = []\n",
    "\n",
    "def detect_outliers_iqr(data):\n",
    "    data = sorted(data)\n",
    "    q1 = np.percentile(data,25)\n",
    "    q3 = np.percentile(data, 75)\n",
    "    # print(q3, q1)\n",
    "    IQR = q3-q1\n",
    "    lwr_bound = q1-(1.5*IQR)\n",
    "    upr_bound = q3+(1.5*IQR) \n",
    "\n",
    "    for i in data:\n",
    "        if (i < lwr_bound or i > upr_bound):\n",
    "                outliers.append(i)\n",
    "    return outliers"
   ]
  },
  {
   "cell_type": "code",
   "execution_count": null,
   "id": "f9e71b76-9a8f-47c9-984b-d884397ec676",
   "metadata": {},
   "outputs": [],
   "source": [
    "outliers_math_iqr = detect_outliers_iqr(data['math_score'])\n",
    "outliers_reading_iqr = detect_outliers_iqr(data['reading_score'])\n",
    "outliers_writing_iqr = detect_outliers_iqr(data['writing_score'])\n",
    "\n",
    "# Math\n",
    "print(\"Total Math Outliers (IQR) =\", len(outliers_math_iqr))\n",
    "print(\"Math Outliers (IQR):\", outliers_math_iqr)\n",
    "print()\n",
    "\n",
    "# Reading\n",
    "print(\"Total Reading Outliers (IQR) =\", len(outliers_reading_iqr))\n",
    "print(\"Reading Outliers (IQR):\", outliers_reading_iqr)\n",
    "print()\n",
    "\n",
    "# Writing\n",
    "print(\"Total Writing Outliers (IQR) =\", len(outliers_writing_iqr))\n",
    "print(\"Writing Outliers (IQR):\", outliers_writing_iqr)\n",
    "print()\n"
   ]
  },
  {
   "cell_type": "markdown",
   "id": "fb5f77e1-f151-4286-b44c-d3eb25983e03",
   "metadata": {},
   "source": [
    "Box Plot for All Scores"
   ]
  },
  {
   "cell_type": "code",
   "execution_count": null,
   "id": "6eab951d-ee0f-4631-9365-0302a5512d7c",
   "metadata": {},
   "outputs": [],
   "source": [
    "import matplotlib.pyplot as plt\n",
    "import seaborn as sns\n",
    "\n",
    "# Create a DataFrame for the three score columns\n",
    "score_data = pd.DataFrame({\n",
    "    'Math': data['math_score'],\n",
    "    'Reading': data['reading_score'],\n",
    "    'Writing': data['writing_score']\n",
    "})\n",
    "\n",
    "# Create a box plot for the three score columns\n",
    "plt.figure(figsize=(10, 6))\n",
    "sns.boxplot(data=score_data)\n",
    "plt.title(\"Box Plot of Math, Reading, and Writing Scores with Outliers\")\n",
    "plt.show()"
   ]
  },
  {
   "cell_type": "markdown",
   "id": "ce14673a-dbd4-49c5-a0a0-564afad9d84a",
   "metadata": {},
   "source": [
    "Removing Outliers"
   ]
  },
  {
   "cell_type": "code",
   "execution_count": null,
   "id": "20a2fb76-b981-415f-8e33-a10eaee0c912",
   "metadata": {},
   "outputs": [],
   "source": []
  }
 ],
 "metadata": {
  "kernelspec": {
   "display_name": "Python 3 (ipykernel)",
   "language": "python",
   "name": "python3"
  },
  "language_info": {
   "codemirror_mode": {
    "name": "ipython",
    "version": 3
   },
   "file_extension": ".py",
   "mimetype": "text/x-python",
   "name": "python",
   "nbconvert_exporter": "python",
   "pygments_lexer": "ipython3",
   "version": "3.12.2"
  }
 },
 "nbformat": 4,
 "nbformat_minor": 5
}
